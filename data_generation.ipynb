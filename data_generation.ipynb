{
  "nbformat": 4,
  "nbformat_minor": 0,
  "metadata": {
    "colab": {
      "name": "data_generation.ipynb",
      "provenance": [],
      "collapsed_sections": [],
      "authorship_tag": "ABX9TyM90R6hwthLi/SSsAsN0xAU",
      "include_colab_link": true
    },
    "kernelspec": {
      "name": "python3",
      "display_name": "Python 3"
    }
  },
  "cells": [
    {
      "cell_type": "markdown",
      "metadata": {
        "id": "view-in-github",
        "colab_type": "text"
      },
      "source": [
        "<a href=\"https://colab.research.google.com/github/sierra187/research_fall2020/blob/master/data_generation.ipynb\" target=\"_parent\"><img src=\"https://colab.research.google.com/assets/colab-badge.svg\" alt=\"Open In Colab\"/></a>"
      ]
    },
    {
      "cell_type": "code",
      "metadata": {
        "id": "NRt3ISXj_dtG",
        "colab_type": "code",
        "colab": {
          "base_uri": "https://localhost:8080/",
          "height": 34
        },
        "outputId": "4f7b78f5-7289-4357-8668-a4c4dfb1e271"
      },
      "source": [
        "import random\n",
        "import string\n",
        "import hashlib\n",
        "\n",
        "def generatedata():\n",
        "  db = []\n",
        "  for n in range(0, random.randint(1, 1000)):\n",
        "    x = random.randint(0,10)\n",
        "    y = random.randint(0, 10)\n",
        "    randstring = ''.join(random.choices(string.ascii_letters + string.digits, k=100))\n",
        "\n",
        "    h = hashlib.sha256()\n",
        "    h.update(bytes(randstring + str(x) + str(y), 'utf-8'))\n",
        "    enc = h.hexdigest()\n",
        "    db.append((enc, (x, y)))\n",
        "  print(len(db))\n",
        "\n",
        "generatedata()"
      ],
      "execution_count": 47,
      "outputs": [
        {
          "output_type": "stream",
          "text": [
            "859\n"
          ],
          "name": "stdout"
        }
      ]
    }
  ]
}