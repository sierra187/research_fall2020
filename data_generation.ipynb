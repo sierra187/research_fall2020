{
  "nbformat": 4,
  "nbformat_minor": 0,
  "metadata": {
    "colab": {
      "name": "data_generation.ipynb",
      "provenance": [],
      "collapsed_sections": [],
      "authorship_tag": "ABX9TyMKya0+d1+0dXC0XtyivTk2",
      "include_colab_link": true
    },
    "kernelspec": {
      "name": "python3",
      "display_name": "Python 3"
    }
  },
  "cells": [
    {
      "cell_type": "markdown",
      "metadata": {
        "id": "view-in-github",
        "colab_type": "text"
      },
      "source": [
        "<a href=\"https://colab.research.google.com/github/sierra187/research_fall2020/blob/master/data_generation.ipynb\" target=\"_parent\"><img src=\"https://colab.research.google.com/assets/colab-badge.svg\" alt=\"Open In Colab\"/></a>"
      ]
    },
    {
      "cell_type": "code",
      "metadata": {
        "id": "NRt3ISXj_dtG",
        "colab_type": "code",
        "colab": {}
      },
      "source": [
        "import random\n",
        "import string\n",
        "import hashlib\n",
        "\n",
        "def generatedata():\n",
        "  db = []\n",
        "  # create random number of points\n",
        "  for n in range(0, random.randint(1, 1000)):\n",
        "    x = random.randint(0,10)\n",
        "    y = random.randint(0, 10)\n",
        "    randstring = ''.join(random.choices(string.ascii_letters + string.digits, k=100))\n",
        "\n",
        "    h = hashlib.sha256()\n",
        "    h.update(bytes(randstring + str(x) + str(y), 'utf-8'))\n",
        "    enc = h.hexdigest()\n",
        "    # store encrypted point and point coordinates in the database\n",
        "    db.append((enc, (x, y)))\n",
        "  return db"
      ],
      "execution_count": 50,
      "outputs": []
    },
    {
      "cell_type": "code",
      "metadata": {
        "id": "qPAJ-vFAlXmm",
        "colab_type": "code",
        "colab": {}
      },
      "source": [
        "def produce_leakage(db):\n",
        "  # all possible size rectangle queries\n",
        "  for l in range(1, 11):\n",
        "    for w in range(1, 11):\n",
        "      # all possible starting points of the rectangle query\n",
        "      for x in range(0, 10):\n",
        "        for y in range(0, 10):\n",
        "          # collect data here\n",
        "          pass\n"
      ],
      "execution_count": 2,
      "outputs": []
    }
  ]
}