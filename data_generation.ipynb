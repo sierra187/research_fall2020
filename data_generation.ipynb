{
  "nbformat": 4,
  "nbformat_minor": 0,
  "metadata": {
    "colab": {
      "name": "data_generation.ipynb",
      "provenance": [],
      "collapsed_sections": [],
      "authorship_tag": "ABX9TyOxOpqGiuvdrWD1x+ZoqPK4",
      "include_colab_link": true
    },
    "kernelspec": {
      "name": "python3",
      "display_name": "Python 3"
    }
  },
  "cells": [
    {
      "cell_type": "markdown",
      "metadata": {
        "id": "view-in-github",
        "colab_type": "text"
      },
      "source": [
        "<a href=\"https://colab.research.google.com/github/sierrarowley/research_fall2020/blob/master/data_generation.ipynb\" target=\"_parent\"><img src=\"https://colab.research.google.com/assets/colab-badge.svg\" alt=\"Open In Colab\"/></a>"
      ]
    },
    {
      "cell_type": "markdown",
      "metadata": {
        "id": "qr_RBexcQvjs"
      },
      "source": [
        "generate_dense and generate_sparse are functions that create databases that are specifically dense and sparse. These ensure that some dense and some sparse databases will be used as input to the nn. This also allows there to be a smaller number of points in the database to make the neural net run faster."
      ]
    },
    {
      "cell_type": "code",
      "metadata": {
        "id": "NRt3ISXj_dtG"
      },
      "source": [
        "import random\n",
        "import string\n",
        "import numpy as np\n",
        "import matplotlib.pyplot as plt\n",
        "import math\n",
        "\n",
        "xbound = 10\n",
        "ybound = 10\n",
        "point_bound = 1000   # for generatedata()\n",
        "\n",
        "\n",
        "def generatedata():\n",
        "  db = np.empty((xbound, ybound), dtype=object)\n",
        "  # create random number of points\n",
        "  for n in range(0, random.randint(1, point_bound)):\n",
        "    x = random.randint(0, xbound-1)\n",
        "    y = random.randint(0, ybound-1)\n",
        "\n",
        "    # encrypt value of point\n",
        "    randstring = ''.join(random.choices(string.ascii_letters + string.digits, k=100))\n",
        "    enc = hash(randstring + str(x) + str(y))\n",
        "\n",
        "    # store encrypted point in the database\n",
        "    if db[x, y] == None:\n",
        "      db[x, y] = [enc]\n",
        "    # at most 10 values per point\n",
        "    elif len(db[x, y]) < 10:\n",
        "      db[x, y].append(enc)\n",
        "  \n",
        "  return db\n",
        "\n",
        "\n",
        "extra_point_bound = 50   # for generate_dense()\n",
        "\n",
        "def generate_dense():\n",
        "  db = np.empty((xbound, ybound), dtype=object)\n",
        "  xvalues = []\n",
        "  yvalues = []\n",
        "  xsprinkle = []\n",
        "  ysprinkle = []\n",
        "  # create point at each index\n",
        "  for x in range(0, xbound):\n",
        "    for y in range(0, ybound):\n",
        "      # encrypt value of point\n",
        "      randstring = ''.join(random.choices(string.ascii_letters + string.digits, k=100))\n",
        "      enc = hash(randstring + str(x) + str(y))\n",
        "      # store encrypted point in the database\n",
        "      db[x, y] = [enc]\n",
        "      xvalues.append(x)\n",
        "      yvalues.append(y)\n",
        "\n",
        "  # sprinkle random number of extra points around db\n",
        "  for n in range(0, random.randint(1, extra_point_bound)):\n",
        "    x = random.randint(0, xbound-1)\n",
        "    y = random.randint(0, ybound-1)\n",
        "    xsprinkle.append(x)\n",
        "    ysprinkle.append(y)\n",
        "\n",
        "    # encrypt value of point\n",
        "    randstring = ''.join(random.choices(string.ascii_letters + string.digits, k=100))\n",
        "    enc = hash(randstring + str(x) + str(y))\n",
        "    db[x, y].append(enc)\n",
        "\n",
        "  return db, xvalues, yvalues, xsprinkle, ysprinkle\n",
        "\n",
        "\n",
        "sparse_point_bound = 150   # for generate_sparse()\n",
        "\n",
        "def generate_sparse():\n",
        "  db = np.empty((xbound, ybound), dtype=object)\n",
        "  xvalues = []\n",
        "  yvalues = []\n",
        "  # create random number of points\n",
        "  for n in range(0, random.randint(1, sparse_point_bound)):\n",
        "    x = random.randint(0, xbound-1)\n",
        "    y = random.randint(0, ybound-1)\n",
        "    xvalues.append(x)\n",
        "    yvalues.append(y)\n",
        "\n",
        "    # encrypt value of point\n",
        "    randstring = ''.join(random.choices(string.ascii_letters + string.digits, k=100))\n",
        "    enc = hash(randstring + str(x) + str(y))\n",
        "\n",
        "    # store encrypted point in the database\n",
        "    if db[x, y] == None:\n",
        "      db[x, y] = [enc]\n",
        "    else:\n",
        "      db[x, y].append(enc)\n",
        "\n",
        "  return db, xvalues, yvalues\n",
        "\n",
        "\n",
        "small_point_bound = 5   # for generate_sparse_small()\n",
        "\n",
        "def generate_sparse_small():\n",
        "  db = np.empty((xbound, ybound), dtype=object)\n",
        "  xvalues = []\n",
        "  yvalues = []\n",
        "  # create random number of points\n",
        "  for n in range(0, random.randint(1, small_point_bound)):\n",
        "    if n > 2:\n",
        "      x = random.randint(0, int((xbound-1)/2))\n",
        "      y = random.randint(0, int((ybound-1)/2))\n",
        "    else:\n",
        "      x = random.randint(int((xbound-1)/2), xbound-1)\n",
        "      y = random.randint(int((ybound-1)/2), ybound-1)\n",
        "    xvalues.append(x)\n",
        "    yvalues.append(y)\n",
        "    # encrypt value of point\n",
        "    randstring = ''.join(random.choices(string.ascii_letters + string.digits, k=100))\n",
        "    enc = hash(randstring + str(x) + str(y))\n",
        "\n",
        "    # store encrypted point in the database\n",
        "    if db[x, y] == None:\n",
        "      db[x, y] = [enc]\n",
        "    else:\n",
        "      db[x, y].append(enc)\n",
        "\n",
        "  return db, xvalues, yvalues\n",
        "\n",
        "\n",
        "def generate_dense_exact():\n",
        "  db = np.empty((xbound, ybound), dtype=object)\n",
        "  xvalues = []\n",
        "  yvalues = []\n",
        "\n",
        "  # create point at each index\n",
        "  for x in range(0, xbound):\n",
        "    for y in range(0, ybound):\n",
        "      # encrypt value of point\n",
        "      randstring = ''.join(random.choices(string.ascii_letters + string.digits, k=100))\n",
        "      enc = hash(randstring + str(x) + str(y))\n",
        "      # store encrypted point in the database\n",
        "      db[x, y] = [enc]\n",
        "      xvalues.append(x)\n",
        "      yvalues.append(y)\n",
        "\n",
        "  return db, xvalues, yvalues\n",
        "\n",
        "\n",
        "def generate_sparse_cluster():\n",
        "  db = np.empty((xbound, ybound), dtype=object)\n",
        "  xvalues = []\n",
        "  yvalues = []\n",
        "  x_range = int((xbound-1)/4)\n",
        "\n",
        "  for n in range(0, random.randint(50, 70)):\n",
        "    x = random.randint(0, x_range)\n",
        "    y = random.randint(0, ybound-1)\n",
        "\n",
        "    xvalues.append(x)\n",
        "    yvalues.append(y)\n",
        "\n",
        "    # encrypt value of point\n",
        "    randstring = ''.join(random.choices(string.ascii_letters + string.digits, k=100))\n",
        "    enc = hash(randstring + str(x) + str(y))\n",
        "\n",
        "    # store encrypted point in the database\n",
        "    if db[x, y] == None:\n",
        "      db[x, y] = [enc]\n",
        "    else:\n",
        "      db[x, y].append(enc)\n",
        "\n",
        "  for n in range(0, random.randint(20, 50)):\n",
        "    x = random.randint(x_range, x_range*2)\n",
        "    y = random.randint(0, ybound-1)\n",
        "\n",
        "    xvalues.append(x)\n",
        "    yvalues.append(y)\n",
        "\n",
        "    # encrypt value of point\n",
        "    randstring = ''.join(random.choices(string.ascii_letters + string.digits, k=100))\n",
        "    enc = hash(randstring + str(x) + str(y))\n",
        "\n",
        "    # store encrypted point in the database\n",
        "    if db[x, y] == None:\n",
        "      db[x, y] = [enc]\n",
        "    else:\n",
        "      db[x, y].append(enc)\n",
        "\n",
        "  for n in range(0, random.randint(10, 20)):\n",
        "    x = random.randint(x_range*2, x_range*3)\n",
        "    y = random.randint(0, ybound-1)\n",
        "\n",
        "    xvalues.append(x)\n",
        "    yvalues.append(y)\n",
        "\n",
        "    # encrypt value of point\n",
        "    randstring = ''.join(random.choices(string.ascii_letters + string.digits, k=100))\n",
        "    enc = hash(randstring + str(x) + str(y))\n",
        "\n",
        "    # store encrypted point in the database\n",
        "    if db[x, y] == None:\n",
        "      db[x, y] = [enc]\n",
        "    else:\n",
        "      db[x, y].append(enc)\n",
        "\n",
        "  for n in range(0, random.randint(1, 10)):\n",
        "    x = random.randint(x_range*3, x_range*4)\n",
        "    y = random.randint(0, ybound-1)\n",
        "\n",
        "    xvalues.append(x)\n",
        "    yvalues.append(y)\n",
        "\n",
        "    # encrypt value of point\n",
        "    randstring = ''.join(random.choices(string.ascii_letters + string.digits, k=100))\n",
        "    enc = hash(randstring + str(x) + str(y))\n",
        "\n",
        "    # store encrypted point in the database\n",
        "    if db[x, y] == None:\n",
        "      db[x, y] = [enc]\n",
        "    else:\n",
        "      db[x, y].append(enc)\n",
        "\n",
        "  return db, xvalues, yvalues"
      ],
      "execution_count": 27,
      "outputs": []
    },
    {
      "cell_type": "code",
      "metadata": {
        "id": "EpfBfK57Ge5r",
        "colab": {
          "resources": {
            "http://localhost:8080/nbextensions/google.colab/files.js": {
              "data": "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",
              "ok": true,
              "headers": [
                [
                  "content-type",
                  "application/javascript"
                ]
              ],
              "status": 200,
              "status_text": ""
            }
          },
          "base_uri": "https://localhost:8080/",
          "height": 551
        },
        "outputId": "752158ae-2957-4d14-8b8b-5252b4072a4d"
      },
      "source": [
        "from google.colab import files \n",
        "import pandas as pd \n",
        "import io \n",
        "\n",
        "\n",
        "uploaded = files.upload()\n",
        "\n",
        "# crimesmap_pd = pd.read_csv(io.BytesIO(uploaded['Crimes_-_Map.csv']))\n",
        "crimesmap_pd = pd.read_csv(io.BytesIO(uploaded['crimesmap2.csv']))\n",
        "crimesmap_pd.head()"
      ],
      "execution_count": 28,
      "outputs": [
        {
          "output_type": "display_data",
          "data": {
            "text/html": [
              "\n",
              "     <input type=\"file\" id=\"files-70512d58-b2ad-4081-a9bb-53b6ace7139c\" name=\"files[]\" multiple disabled\n",
              "        style=\"border:none\" />\n",
              "     <output id=\"result-70512d58-b2ad-4081-a9bb-53b6ace7139c\">\n",
              "      Upload widget is only available when the cell has been executed in the\n",
              "      current browser session. Please rerun this cell to enable.\n",
              "      </output>\n",
              "      <script src=\"/nbextensions/google.colab/files.js\"></script> "
            ],
            "text/plain": [
              "<IPython.core.display.HTML object>"
            ]
          },
          "metadata": {
            "tags": []
          }
        },
        {
          "output_type": "stream",
          "text": [
            "Saving crimesmap2.csv to crimesmap2 (1).csv\n"
          ],
          "name": "stdout"
        },
        {
          "output_type": "execute_result",
          "data": {
            "text/html": [
              "<div>\n",
              "<style scoped>\n",
              "    .dataframe tbody tr th:only-of-type {\n",
              "        vertical-align: middle;\n",
              "    }\n",
              "\n",
              "    .dataframe tbody tr th {\n",
              "        vertical-align: top;\n",
              "    }\n",
              "\n",
              "    .dataframe thead th {\n",
              "        text-align: right;\n",
              "    }\n",
              "</style>\n",
              "<table border=\"1\" class=\"dataframe\">\n",
              "  <thead>\n",
              "    <tr style=\"text-align: right;\">\n",
              "      <th></th>\n",
              "      <th>CASE#</th>\n",
              "      <th>DATE  OF OCCURRENCE</th>\n",
              "      <th>BLOCK</th>\n",
              "      <th>IUCR</th>\n",
              "      <th>PRIMARY DESCRIPTION</th>\n",
              "      <th>SECONDARY DESCRIPTION</th>\n",
              "      <th>LOCATION DESCRIPTION</th>\n",
              "      <th>ARREST</th>\n",
              "      <th>DOMESTIC</th>\n",
              "      <th>BEAT</th>\n",
              "      <th>WARD</th>\n",
              "      <th>FBI CD</th>\n",
              "      <th>X COORDINATE</th>\n",
              "      <th>Y COORDINATE</th>\n",
              "      <th>LATITUDE</th>\n",
              "      <th>LONGITUDE</th>\n",
              "      <th>LOCATION</th>\n",
              "    </tr>\n",
              "  </thead>\n",
              "  <tbody>\n",
              "    <tr>\n",
              "      <th>0</th>\n",
              "      <td>JD373159</td>\n",
              "      <td>09/20/2020 05:45:00 AM</td>\n",
              "      <td>040XX E 134TH ST</td>\n",
              "      <td>560</td>\n",
              "      <td>ASSAULT</td>\n",
              "      <td>SIMPLE</td>\n",
              "      <td>RESIDENCE</td>\n",
              "      <td>N</td>\n",
              "      <td>Y</td>\n",
              "      <td>433</td>\n",
              "      <td>10</td>\n",
              "      <td>08A</td>\n",
              "      <td>1204544</td>\n",
              "      <td>1816604</td>\n",
              "      <td>41.651431</td>\n",
              "      <td>-87.527258</td>\n",
              "      <td>(41.651431329, -87.527258234)</td>\n",
              "    </tr>\n",
              "    <tr>\n",
              "      <th>1</th>\n",
              "      <td>JC517391</td>\n",
              "      <td>11/19/2019 02:11:00 PM</td>\n",
              "      <td>040XX E 134TH ST</td>\n",
              "      <td>890</td>\n",
              "      <td>THEFT</td>\n",
              "      <td>FROM BUILDING</td>\n",
              "      <td>RESIDENCE PORCH/HALLWAY</td>\n",
              "      <td>N</td>\n",
              "      <td>N</td>\n",
              "      <td>433</td>\n",
              "      <td>10</td>\n",
              "      <td>6</td>\n",
              "      <td>1204544</td>\n",
              "      <td>1816604</td>\n",
              "      <td>41.651431</td>\n",
              "      <td>-87.527258</td>\n",
              "      <td>(41.651431329, -87.527258234)</td>\n",
              "    </tr>\n",
              "    <tr>\n",
              "      <th>2</th>\n",
              "      <td>JD378697</td>\n",
              "      <td>09/25/2020 10:42:00 AM</td>\n",
              "      <td>040XX E 134TH ST</td>\n",
              "      <td>530</td>\n",
              "      <td>ASSAULT</td>\n",
              "      <td>AGGRAVATED - OTHER DANGEROUS WEAPON</td>\n",
              "      <td>STREET</td>\n",
              "      <td>N</td>\n",
              "      <td>N</td>\n",
              "      <td>433</td>\n",
              "      <td>10</td>\n",
              "      <td>04A</td>\n",
              "      <td>1204544</td>\n",
              "      <td>1816604</td>\n",
              "      <td>41.651431</td>\n",
              "      <td>-87.527258</td>\n",
              "      <td>(41.651431329, -87.527258234)</td>\n",
              "    </tr>\n",
              "    <tr>\n",
              "      <th>3</th>\n",
              "      <td>JD379866</td>\n",
              "      <td>09/26/2020 10:32:00 AM</td>\n",
              "      <td>040XX E 134TH ST</td>\n",
              "      <td>1310</td>\n",
              "      <td>CRIMINAL DAMAGE</td>\n",
              "      <td>TO PROPERTY</td>\n",
              "      <td>OTHER (SPECIFY)</td>\n",
              "      <td>N</td>\n",
              "      <td>Y</td>\n",
              "      <td>433</td>\n",
              "      <td>10</td>\n",
              "      <td>14</td>\n",
              "      <td>1204544</td>\n",
              "      <td>1816604</td>\n",
              "      <td>41.651431</td>\n",
              "      <td>-87.527258</td>\n",
              "      <td>(41.651431329, -87.527258234)</td>\n",
              "    </tr>\n",
              "    <tr>\n",
              "      <th>4</th>\n",
              "      <td>JC501181</td>\n",
              "      <td>11/06/2019 06:49:00 PM</td>\n",
              "      <td>040XX E 134TH ST</td>\n",
              "      <td>460</td>\n",
              "      <td>BATTERY</td>\n",
              "      <td>SIMPLE</td>\n",
              "      <td>STREET</td>\n",
              "      <td>N</td>\n",
              "      <td>N</td>\n",
              "      <td>433</td>\n",
              "      <td>10</td>\n",
              "      <td>08B</td>\n",
              "      <td>1204544</td>\n",
              "      <td>1816604</td>\n",
              "      <td>41.651431</td>\n",
              "      <td>-87.527258</td>\n",
              "      <td>(41.651431329, -87.527258234)</td>\n",
              "    </tr>\n",
              "  </tbody>\n",
              "</table>\n",
              "</div>"
            ],
            "text/plain": [
              "      CASE#     DATE  OF OCCURRENCE  ...  LONGITUDE                       LOCATION\n",
              "0  JD373159  09/20/2020 05:45:00 AM  ... -87.527258  (41.651431329, -87.527258234)\n",
              "1  JC517391  11/19/2019 02:11:00 PM  ... -87.527258  (41.651431329, -87.527258234)\n",
              "2  JD378697  09/25/2020 10:42:00 AM  ... -87.527258  (41.651431329, -87.527258234)\n",
              "3  JD379866  09/26/2020 10:32:00 AM  ... -87.527258  (41.651431329, -87.527258234)\n",
              "4  JC501181  11/06/2019 06:49:00 PM  ... -87.527258  (41.651431329, -87.527258234)\n",
              "\n",
              "[5 rows x 17 columns]"
            ]
          },
          "metadata": {
            "tags": []
          },
          "execution_count": 28
        }
      ]
    },
    {
      "cell_type": "code",
      "metadata": {
        "id": "HZIArRumH_c2"
      },
      "source": [
        "def preprocess(crimesmap_pd_input):\n",
        "  crimesmap = np.array(crimesmap_pd_input)\n",
        "  # select lattitude and longitude columns from crimes map data set\n",
        "  crimesmap_ll = crimesmap[:, 14:16]\n",
        "  # select time and type of crime columns from data\n",
        "  crimesmap_tt = np.column_stack((crimesmap[:, 1], crimesmap[:, 4]))\n",
        "\n",
        "  # give crime number for each type of crime\n",
        "  crime_type = set(crimesmap[:, 4])\n",
        "  type_map = {i: n for n,i in enumerate(crime_type)}\n",
        "\n",
        "  row = crimesmap_ll.shape[0] - 1\n",
        "  while row >= 0:\n",
        "    # remove all nan rows from lattitude longitude data\n",
        "    if math.isnan(crimesmap_ll[row, 0]) or math.isnan(crimesmap_ll[row, 1]):\n",
        "      crimesmap_ll = np.delete(crimesmap_ll, row, axis=0)\n",
        "\n",
        "    # set crime type at this row to be the corresponding number\n",
        "    crimesmap_tt[row, 1] = type_map[crimesmap_tt[row, 1]]\n",
        "    # isolate time from date of occurance\n",
        "    crimesmap_tt[row, 0] = int(crimesmap_tt[row, 0][11: 13]) #+ crimesmap_tt[row, 0][14: 16])\n",
        "\n",
        "    row -= 1\n",
        "\n",
        "  return crimesmap_ll, crimesmap_tt\n",
        "\n",
        "\n",
        "def crimes_data(crimesmap, ll_flag):\n",
        "  # take a random set of 50 data entries\n",
        "  start = random.randint(0, crimesmap.shape[0]-50)\n",
        "  crimesmap = crimesmap[start:start+50, :]\n",
        "\n",
        "  # normalize data so smallest entry is equivalent to 0 and numbers are in range of 10s place\n",
        "  db_min = np.argmin(crimesmap, axis=0)\n",
        "  min_0 = crimesmap[db_min[0],0]\n",
        "  min_1 = crimesmap[db_min[1],1]\n",
        "  for r in range(crimesmap.shape[0]):\n",
        "    if ll_flag:\n",
        "      crimesmap[r, 0] = int(round((crimesmap[r, 0] - min_0)*1000))\n",
        "      crimesmap[r, 1] = int(round((crimesmap[r, 1] - min_1)*1000))\n",
        "    else:\n",
        "      crimesmap[r, 0] = crimesmap[r, 0] - min_0\n",
        "      crimesmap[r, 1] = crimesmap[r, 1] - min_1\n",
        "\n",
        "  # get max x and y coordinates to determine size of database\n",
        "  db_maxsize = np.argmax(crimesmap, axis=0)\n",
        "  db = np.empty((int(crimesmap[db_maxsize[0],0])+1, int(crimesmap[db_maxsize[1], 1])+1), dtype=object)\n",
        "\n",
        "  xvalues = []\n",
        "  yvalues = []\n",
        "  # add each x, y coordinate to the database as a hashed value\n",
        "  for n in range(0, crimesmap.shape[0]):\n",
        "    x = int(crimesmap[n, 0])\n",
        "    y = int(crimesmap[n, 1])\n",
        "\n",
        "    xvalues.append(x)\n",
        "    yvalues.append(y)\n",
        "\n",
        "    randstring = ''.join(random.choices(string.ascii_letters + string.digits, k=100))\n",
        "    enc = hash(randstring + str(x) + str(y))\n",
        "    # store encrypted point in the database\n",
        "    if db[x, y] == None:\n",
        "      db[x, y] = [enc]\n",
        "    else:\n",
        "      db[x, y].append(enc)\n",
        "\n",
        "  return db, xvalues, yvalues"
      ],
      "execution_count": 29,
      "outputs": []
    },
    {
      "cell_type": "code",
      "metadata": {
        "colab": {
          "base_uri": "https://localhost:8080/",
          "height": 1000
        },
        "id": "Suy5ud2xQOcg",
        "outputId": "25d9ea02-40da-49cb-9ca5-c9b1a6556868"
      },
      "source": [
        "def plot_databases():  \n",
        "  # dense\n",
        "  db, xvalues, yvalues, xsprinkle, ysprinkle = generate_dense()\n",
        "  plt.plot(xvalues, yvalues, 'r.')\n",
        "  plt.plot(xsprinkle, ysprinkle, 'b.')\n",
        "  plt.xlabel('x coordinate')\n",
        "  plt.ylabel('y coordinate')\n",
        "  plt.title(\"10 x 10 map: dense (blue dots are on top of dense exact)\")\n",
        "  plt.show()\n",
        "\n",
        "  \n",
        "  # dense exact\n",
        "  db, xvalues, yvalues = generate_dense_exact()\n",
        "  plt.plot(xvalues, yvalues, 'r.')\n",
        "  plt.xlabel('x coordinate')\n",
        "  plt.ylabel('y coordinate')\n",
        "  plt.title(\"10 x 10 map: dense exact\")\n",
        "  plt.show()\n",
        "  \n",
        "  # sparse\n",
        "  db, xvalues, yvalues = generate_sparse()\n",
        "  plt.plot(xvalues, yvalues, 'r.')\n",
        "  plt.xlabel('x coordinate')\n",
        "  plt.ylabel('y coordinate')\n",
        "  plt.title(\"10 x 10 map: sparse\")\n",
        "  plt.show()\n",
        "  \n",
        "  # sparse small\n",
        "  db, xvalues, yvalues = generate_sparse_small()\n",
        "  plt.plot(xvalues, yvalues, 'r.')\n",
        "  plt.xlabel('x coordinate')\n",
        "  plt.ylabel('y coordinate')\n",
        "  plt.title(\"10 x 10 map: very sparse\")\n",
        "  plt.show()\n",
        "  \n",
        "  # sparse fade\n",
        "  db, xvalues, yvalues = generate_sparse_cluster()\n",
        "  plt.plot(xvalues, yvalues, 'r.')\n",
        "  plt.xlabel('x coordinate')\n",
        "  plt.ylabel('y coordinate')\n",
        "  plt.title(\"10 x 10 map: sparse fading to right\")\n",
        "  plt.show()\n",
        "\n",
        "  # lattitude vs. longitude\n",
        "  db, xvalues, yvalues = crimes_data(preprocess(crimesmap_pd)[0], 1)\n",
        "  plt.plot(xvalues, yvalues, 'r.')\n",
        "  plt.xlabel('lattitude')\n",
        "  plt.ylabel('longitude')\n",
        "  plt.title(\"Chicago Crimes Map: lattitude vs. longitude\")\n",
        "  plt.show()\n",
        "  \n",
        "  # time vs. type\n",
        "  db, xvalues, yvalues = crimes_data(preprocess(crimesmap_pd)[1], 0)\n",
        "  plt.plot(xvalues, yvalues, 'b.')\n",
        "  plt.xlabel('time of crime')\n",
        "  plt.ylabel('type of crime')\n",
        "  plt.title(\"Chicago Crimes Map: time vs. type of crime\")\n",
        "  plt.show()\n",
        "\n",
        "plot_databases()"
      ],
      "execution_count": 47,
      "outputs": [
        {
          "output_type": "display_data",
          "data": {
            "image/png": "[encoded data removed]",
            "text/plain": [
              "<Figure size 432x288 with 1 Axes>"
            ]
          },
          "metadata": {
            "tags": [],
            "needs_background": "light"
          }
        },
        {
          "output_type": "display_data",
          "data": {
            "image/png": "[encoded data removed]",
            "text/plain": [
              "<Figure size 432x288 with 1 Axes>"
            ]
          },
          "metadata": {
            "tags": [],
            "needs_background": "light"
          }
        },
        {
          "output_type": "display_data",
          "data": {
            "image/png": "[encoded data removed]",
            "text/plain": [
              "<Figure size 432x288 with 1 Axes>"
            ]
          },
          "metadata": {
            "tags": [],
            "needs_background": "light"
          }
        },
        {
          "output_type": "display_data",
          "data": {
            "image/png": "[encoded data removed]",
            "text/plain": [
              "<Figure size 432x288 with 1 Axes>"
            ]
          },
          "metadata": {
            "tags": [],
            "needs_background": "light"
          }
        },
        {
          "output_type": "display_data",
          "data": {
            "image/png": "[encoded data removed]",
            "text/plain": [
              "<Figure size 432x288 with 1 Axes>"
            ]
          },
          "metadata": {
            "tags": [],
            "needs_background": "light"
          }
        },
        {
          "output_type": "display_data",
          "data": {
            "image/png": "[encoded data removed]",
            "text/plain": [
              "<Figure size 432x288 with 1 Axes>"
            ]
          },
          "metadata": {
            "tags": [],
            "needs_background": "light"
          }
        },
        {
          "output_type": "display_data",
          "data": {
            "image/png": "[encoded data removed]",
            "text/plain": [
              "<Figure size 432x288 with 1 Axes>"
            ]
          },
          "metadata": {
            "tags": [],
            "needs_background": "light"
          }
        }
      ]
    },
    {
      "cell_type": "markdown",
      "metadata": {
        "id": "8zK2BckrUu_J"
      },
      "source": [
        "The database is classified as either sparse (0) or dense (1). produce_leakage() performs every possible query of the database and saves the results from those queries in a list. The list is returned at the end."
      ]
    },
    {
      "cell_type": "code",
      "metadata": {
        "id": "qPAJ-vFAlXmm"
      },
      "source": [
        "max_rect_l = 5\n",
        "max_rect_w = 5\n",
        "\n",
        "def produce_leakage(db):\n",
        "  xbound = db.shape[0]\n",
        "  ybound = db.shape[1]\n",
        "  leakage = []\n",
        "  empty_query_rows = [] # keep track of empty rows(queries) for padding purposes\n",
        "  query_num = 0 # keep track of row(query) number for empty_query_rows\n",
        "  querylen = 0\n",
        "  # all possible size rectangle queries up to 5x5 for colab storage reasons\n",
        "  for l in range(1, max_rect_l+1):\n",
        "    for w in range(1, max_rect_w+1):\n",
        "      # all possible starting points of the rectangle query\n",
        "      for x in range(0, xbound):\n",
        "        # dont perform query if it is out of bounds\n",
        "        if x+l > xbound:\n",
        "          break\n",
        "        for y in range(0, ybound):\n",
        "          if y+w > ybound:\n",
        "            break\n",
        "\n",
        "          curr_query = []\n",
        "          # loop through current query in the database\n",
        "          for i in range(x, x+l):\n",
        "            for j in range(y, y+w):\n",
        "              # if a point(s) exists at this location in database, add it to the current query\n",
        "              if db[i, j] != None:\n",
        "                curr_query.extend(db[i, j])\n",
        "\n",
        "          # if query is empty, then add [-1] to represent empty         \n",
        "          if not curr_query:\n",
        "            leakage.append([-1])\n",
        "            # keep track of empty queries for padding later\n",
        "            empty_query_rows.append(query_num)\n",
        "          # else add query leakage to entire leakage list\n",
        "          else :\n",
        "            leakage.append(curr_query)\n",
        "\n",
        "          # keep track of longest query length for creating input array\n",
        "          if len(curr_query) > querylen:\n",
        "            querylen = len(curr_query)\n",
        "          query_num += 1\n",
        "\n",
        "  return (leakage, empty_query_rows, querylen)\n",
        "\n",
        "\n",
        "def classify(db):\n",
        "  xbound = db.shape[0]\n",
        "  ybound = db.shape[1]\n",
        "  db_density = 0 # keep track of how many indices in db are empty for classification\n",
        "  for x in range(0, xbound):\n",
        "      for y in range(0, ybound):\n",
        "        # count number of empty indices in database to find density classification\n",
        "        if db[x, y] == None:\n",
        "          db_density += 1\n",
        "\n",
        "  density = (100 - db_density)/100\n",
        "  dense_class = 0\n",
        "  if density >= 0.4 and density < 0.8:\n",
        "    dense_class = 1\n",
        "  elif density >= 0.8:\n",
        "    dense_class = 2\n",
        "\n",
        "  return dense_class"
      ],
      "execution_count": 31,
      "outputs": []
    },
    {
      "cell_type": "markdown",
      "metadata": {
        "id": "lfmeJEXnm13e"
      },
      "source": [
        "create_database() calls generate_dense() or generate_sparse() (depending on the input parameter) and produce_leakage(), which creates the database and the search query leakages from that database. It then takes the returned list of leakages and transforms it into a 2D numpy array with dimensions (number of queries, length of longest query). All queries with a length shorter than the longest are padded with 0's at the end. Each index of the array represents hashed value of a point in a query. create_database() returns the numpy array, which represents one input to the neural net, and the classification of the database."
      ]
    },
    {
      "cell_type": "code",
      "metadata": {
        "id": "ey_sbInNVySe"
      },
      "source": [
        "def create_database(db_func):\n",
        "  db = None\n",
        "  if db_func == \"latlong\":\n",
        "    db = crimes_data(preprocess(crimesmap_pd)[0], 1)[0]\n",
        "  elif db_func == \"timetype\":\n",
        "    db = crimes_data(preprocess(crimesmap_pd)[1], 0)[0]\n",
        "  elif db_func == \"dense\":\n",
        "    db = generate_dense()[0]\n",
        "  elif db_func == \"dense_exact\":\n",
        "    db = generate_dense_exact()[0]\n",
        "  elif db_func == \"sparse\":\n",
        "    db = generate_sparse()[0]\n",
        "  elif db_func == \"sparse_small\":\n",
        "    db = generate_sparse_small()[0]\n",
        "  else:\n",
        "    db = generate_sparse_cluster()[0]\n",
        "\n",
        "  leakage, empty_rows, querylen = produce_leakage(db)\n",
        "  if db_func == \"latlong\":\n",
        "    c = 0\n",
        "  elif db_func == \"timetype\":\n",
        "    c = 1\n",
        "  else:\n",
        "    c = classify(db)\n",
        "\n",
        "  numqueries = len(leakage)\n",
        "  input = np.empty((numqueries, querylen))\n",
        "  for x in range(0, numqueries):\n",
        "    q = np.array(leakage[x])\n",
        "    # empty rows are padded with -1 to distinguish them\n",
        "    if x in empty_rows:\n",
        "      input[x] = np.pad(q, (0, querylen-len(q)), 'constant', constant_values=(0, -1))\n",
        "    # all other queries are padded with 0 to be same shape\n",
        "    else:\n",
        "      input[x] = np.pad(q, (0, querylen-len(q)), 'constant', constant_values=(0, 0))\n",
        "\n",
        "  # shuffle leakage to make order and location of queries less obvious\n",
        "  np.random.shuffle(input)\n",
        "  \n",
        "  return (input, c)"
      ],
      "execution_count": 32,
      "outputs": []
    },
    {
      "cell_type": "markdown",
      "metadata": {
        "id": "wN5fqx1naFEH"
      },
      "source": [
        "create_nn_data() creates a specified number of databases that will be used in the training and testing sets for the neural net. It pads each input array (from create_database) so they are all of the same size. It returns an array of inputs of size (number of inputs, number of queries, number of items in query) and an array of the labels."
      ]
    },
    {
      "cell_type": "code",
      "metadata": {
        "id": "sHF3Id949cs9"
      },
      "source": [
        "def create_nn_data(num_inputs, data_type):\n",
        "  data = [] # list to store each database\n",
        "  labels = np.zeros((num_inputs))\n",
        "  numqueries = 0\n",
        "  querylen = 0\n",
        "  db_func_list = [\"dense\", \"dense_exact\", \"sparse\", \"sparse_small\", \"sparse_cluster\"]\n",
        "  crimes_func_list = [\"latlong\", \"timetype\"]\n",
        "\n",
        "  # create all databases for input\n",
        "  for n in range(0, num_inputs):\n",
        "    if data_type == 0:\n",
        "      db_func = random.choice(db_func_list)\n",
        "    else:\n",
        "      db_func = random.choice(crimes_func_list)\n",
        "    database, label = create_database(db_func)\n",
        "    data.append(database)\n",
        "    labels[n] = label\n",
        "\n",
        "    # find largest shape to later pad all databases to be same size\n",
        "    if database.shape[0] > numqueries:\n",
        "      numqueries = database.shape[0]\n",
        "    if database.shape[1] > querylen:\n",
        "      querylen = database.shape[1]\n",
        "\n",
        "  inputs = np.empty((num_inputs, numqueries, querylen))\n",
        "  # pad each database\n",
        "  for i in range(0, len(data)):\n",
        "    d = data[i]\n",
        "    d = np.pad(d, ((0, 0), (0, max(querylen - d.shape[1], 0))), 'constant', constant_values=(0, 0))\n",
        "    d = np.pad(d, ((0, max(numqueries - d.shape[0], 0)), (0, 0)), 'constant', constant_values=(0, 0))\n",
        "    inputs[i] = d\n",
        "\n",
        "  return inputs, labels"
      ],
      "execution_count": 33,
      "outputs": []
    },
    {
      "cell_type": "code",
      "metadata": {
        "id": "tjFJPUt2mYs4",
        "colab": {
          "base_uri": "https://localhost:8080/",
          "height": 290
        },
        "outputId": "a483dbe1-1ffb-4cce-9f9f-a97a62fad230"
      },
      "source": [
        "data, labels = create_nn_data(3, 0)\n",
        "\n",
        "def plot_hashed_query_data():\n",
        "  plt.plot(data[0, 0:10, 0:10], 'r.')\n",
        "  plt.plot(data[1, 0:10, 0:10], 'b.')\n",
        "  plt.plot(data[2, 0:10, 0:10], 'g.')\n",
        "  plt.xlabel('query')\n",
        "  plt.ylabel('hashed data points in query')\n",
        "  plt.show()\n",
        "\n",
        "plot_hashed_query_data()"
      ],
      "execution_count": 42,
      "outputs": [
        {
          "output_type": "display_data",
          "data": {
            "image/png": "[encoded data removed]",
            "text/plain": [
              "<Figure size 432x288 with 1 Axes>"
            ]
          },
          "metadata": {
            "tags": [],
            "needs_background": "light"
          }
        }
      ]
    },
    {
      "cell_type": "markdown",
      "metadata": {
        "id": "43K5LAOp3n4a"
      },
      "source": [
        "Time to make the neural net! I will be using tensorflow with keras"
      ]
    },
    {
      "cell_type": "code",
      "metadata": {
        "id": "QALvBCx_9oX8"
      },
      "source": [
        "import tensorflow as tf\n",
        "from tensorflow import keras"
      ],
      "execution_count": 34,
      "outputs": []
    },
    {
      "cell_type": "code",
      "metadata": {
        "id": "BavwLyY08ZRp",
        "colab": {
          "base_uri": "https://localhost:8080/"
        },
        "outputId": "b70f7d43-6c12-462e-f5a7-dfa822b3515b"
      },
      "source": [
        "# preprocess data\n",
        "n = 1000 #300\n",
        "e = 7 #3\n",
        "# second input is for type of databases to use: 0 = 10x10, 1 = crimes map\n",
        "inputs, labels = create_nn_data(n, 0)\n",
        "\n",
        "train_inputs = inputs[0:int(n*.8), :, :, None]\n",
        "train_labels = labels[0:int(n*.8)]\n",
        "test_inputs = inputs[int(n*.8):n, :, :, None]\n",
        "test_labels = labels[int(n*.8):n]\n",
        "\n",
        "print(\"train inputs: \", train_inputs.shape, \"train labels: \", train_labels.shape)\n",
        "print(\"test inputs: \", test_inputs.shape, \"test labels: \", test_labels.shape)\n",
        "\n",
        "# create model\n",
        "model = keras.Sequential([\n",
        "    keras.layers.Conv2D(32, 5, strides=2, padding='same', activation='relu', kernel_regularizer='L2'),\n",
        "    keras.layers.Conv2D(64, 5, strides=2, padding='same', activation='relu', kernel_regularizer='L2'),\n",
        "    keras.layers.Conv2D(64, 3, strides=2, padding='same', activation='relu', kernel_regularizer='L2'),\n",
        "    keras.layers.Conv2D(96, 3, strides=2, padding='same', activation='relu', kernel_regularizer='L2'),\n",
        "    keras.layers.Conv2D(96, 3, strides=2, padding='same', activation='relu', kernel_regularizer='L2'),\n",
        "    keras.layers.Flatten(),\n",
        "    keras.layers.Dense(100, activation='relu'),\n",
        "    keras.layers.Dropout(0.2),\n",
        "    keras.layers.Dense(60, activation='relu'),\n",
        "    keras.layers.Dense(3)\n",
        "])\n",
        "\n",
        "model.compile(optimizer='adam',\n",
        "              loss=tf.keras.losses.SparseCategoricalCrossentropy(from_logits=True),\n",
        "              metrics=['accuracy'])\n",
        "\n",
        "model.fit(train_inputs, train_labels, epochs=e)\n",
        "\n",
        "test_loss, test_acc = model.evaluate(test_inputs,  test_labels, verbose=2)\n",
        "\n",
        "print('\\nTest accuracy:', test_acc)"
      ],
      "execution_count": 35,
      "outputs": [
        {
          "output_type": "stream",
          "text": [
            "train inputs:  (800, 1600, 72, 1) train labels:  (800,)\n",
            "test inputs:  (200, 1600, 72, 1) test labels:  (200,)\n",
            "Epoch 1/7\n",
            "25/25 [==============================] - 61s 2s/step - loss: 10631169339031552.0000 - accuracy: 0.5437\n",
            "Epoch 2/7\n",
            "25/25 [==============================] - 61s 2s/step - loss: 119488573865984.0000 - accuracy: 0.7900\n",
            "Epoch 3/7\n",
            "25/25 [==============================] - 61s 2s/step - loss: 33238733029376.0000 - accuracy: 0.8413\n",
            "Epoch 4/7\n",
            "25/25 [==============================] - 61s 2s/step - loss: 15681827373056.0000 - accuracy: 0.8662\n",
            "Epoch 5/7\n",
            "25/25 [==============================] - 61s 2s/step - loss: 10228398555136.0000 - accuracy: 0.8925\n",
            "Epoch 6/7\n",
            "25/25 [==============================] - 61s 2s/step - loss: 6295483056128.0000 - accuracy: 0.9162\n",
            "Epoch 7/7\n",
            "25/25 [==============================] - 61s 2s/step - loss: 7028152467456.0000 - accuracy: 0.9150\n",
            "7/7 - 4s - loss: 22690389819392.0000 - accuracy: 0.8050\n",
            "\n",
            "Test accuracy: 0.8050000071525574\n"
          ],
          "name": "stdout"
        }
      ]
    }
  ]
}