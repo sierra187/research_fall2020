{
  "nbformat": 4,
  "nbformat_minor": 0,
  "metadata": {
    "colab": {
      "name": "data_generation.ipynb",
      "provenance": [],
      "collapsed_sections": [],
      "authorship_tag": "ABX9TyP6s2+Bv8dm0oM3FsHChPhu",
      "include_colab_link": true
    },
    "kernelspec": {
      "name": "python3",
      "display_name": "Python 3"
    }
  },
  "cells": [
    {
      "cell_type": "markdown",
      "metadata": {
        "id": "view-in-github",
        "colab_type": "text"
      },
      "source": [
        "<a href=\"https://colab.research.google.com/github/sierrarowley/research_fall2020/blob/master/data_generation.ipynb\" target=\"_parent\"><img src=\"https://colab.research.google.com/assets/colab-badge.svg\" alt=\"Open In Colab\"/></a>"
      ]
    },
    {
      "cell_type": "code",
      "metadata": {
        "id": "NRt3ISXj_dtG",
        "colab_type": "code",
        "colab": {}
      },
      "source": [
        "import random\n",
        "import string\n",
        "import numpy as np\n",
        "\n",
        "xbound = 10\n",
        "ybound = 10\n",
        "\n",
        "def generatedata():\n",
        "  db = np.empty((xbound, ybound), dtype=object)\n",
        "  # create random number of points\n",
        "  for n in range(0, random.randint(1, 1000)):\n",
        "    x = random.randint(0, xbound-1)\n",
        "    y = random.randint(0, ybound-1)\n",
        "\n",
        "    # encrypt value of point\n",
        "    randstring = ''.join(random.choices(string.ascii_letters + string.digits, k=100))\n",
        "    enc = hash(randstring + str(x) + str(y))\n",
        "\n",
        "    # store encrypted point in the database\n",
        "    if db[x, y] == None:\n",
        "      db[x, y] = [enc]\n",
        "    # at most 10 values per point\n",
        "    elif len(db[x, y]) < 10:\n",
        "      db[x, y].append(enc)\n",
        "  \n",
        "  return db"
      ],
      "execution_count": 127,
      "outputs": []
    },
    {
      "cell_type": "markdown",
      "metadata": {
        "id": "8zK2BckrUu_J",
        "colab_type": "text"
      },
      "source": [
        "The database is classified as either sparse (0) or dense (1)"
      ]
    },
    {
      "cell_type": "code",
      "metadata": {
        "id": "qPAJ-vFAlXmm",
        "colab_type": "code",
        "colab": {}
      },
      "source": [
        "def produce_leakage(db):\n",
        "  leakage = []\n",
        "  dense_flag = 1\n",
        "  query_len = 0\n",
        "  # all possible size rectangle queries\n",
        "  for l in range(1, xbound+1):\n",
        "    for w in range(1, ybound+1):\n",
        "      # all possible starting points of the rectangle query\n",
        "      for x in range(0, xbound):\n",
        "        # dont perform query if it is out of bounds\n",
        "        if x+l > xbound:\n",
        "          break\n",
        "        for y in range(0, ybound):\n",
        "          if y+w > ybound:\n",
        "            break\n",
        "\n",
        "          # if any point in database is None, then it is not dense\n",
        "          if db[x, y] == None:\n",
        "            dense_flag = 0\n",
        "          \n",
        "          curr_query = []\n",
        "          # loop through current query in the database\n",
        "          for i in range(x, x+l):\n",
        "            for j in range(y, y+w):\n",
        "              if db[i, j] != None:\n",
        "                curr_query.append(db[i, j])\n",
        "\n",
        "          # add query leakage to entire list\n",
        "          if len(curr_query) != 0:\n",
        "            leakage.append(curr_query)\n",
        "          # keep track of longest query length for creating input array\n",
        "          if len(curr_query) > query_len:\n",
        "            query_len = len(curr_query)\n",
        "  \n",
        "  # shuffle to make location of queries less obvious\n",
        "  random.shuffle(leakage)\n",
        "  return (leakage, dense_flag, query_len)"
      ],
      "execution_count": 128,
      "outputs": []
    },
    {
      "cell_type": "markdown",
      "metadata": {
        "id": "lfmeJEXnm13e",
        "colab_type": "text"
      },
      "source": [
        "create_input() calls generatedata() and produce_leakage(), which creates the database and the search query leakages from that database. It then takes the returned list of leakages and transforms it into a 2D numpy array with dimensions (number of queries, length of longest query). All queries with a length shorter than the longest are padded with 0's at the end. Each index of the array represents one point in a query and is stored as a list of the value(s) at that point. create_input() returns the numpy array, which can now be fed into a tensorflow neural network, and the classification of the database."
      ]
    },
    {
      "cell_type": "code",
      "metadata": {
        "id": "ey_sbInNVySe",
        "colab_type": "code",
        "colab": {}
      },
      "source": [
        "def create_input():\n",
        "  leakage, c, querylength = produce_leakage(generatedata())\n",
        "  numqueries = len(leakage)\n",
        "  \n",
        "  input = np.empty((numqueries, querylength), dtype=object)\n",
        "  for x in range(0, numqueries):\n",
        "    q = np.array(leakage[x]).reshape(-1,)\n",
        "    input[x,] = np.pad(q, (0, querylength-len(q)), 'constant', constant_values=(0, 0))\n",
        "  \n",
        "  return (input, c)"
      ],
      "execution_count": 130,
      "outputs": []
    }
  ]
}