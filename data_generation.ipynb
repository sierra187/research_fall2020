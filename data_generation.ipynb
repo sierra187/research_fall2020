{
  "nbformat": 4,
  "nbformat_minor": 0,
  "metadata": {
    "colab": {
      "name": "data_generation.ipynb",
      "provenance": [],
      "collapsed_sections": [],
      "authorship_tag": "ABX9TyOjNjc8oLNEugeQNbRsejNf",
      "include_colab_link": true
    },
    "kernelspec": {
      "name": "python3",
      "display_name": "Python 3"
    }
  },
  "cells": [
    {
      "cell_type": "markdown",
      "metadata": {
        "id": "view-in-github",
        "colab_type": "text"
      },
      "source": [
        "<a href=\"https://colab.research.google.com/github/sierrarowley/research_fall2020/blob/master/data_generation.ipynb\" target=\"_parent\"><img src=\"https://colab.research.google.com/assets/colab-badge.svg\" alt=\"Open In Colab\"/></a>"
      ]
    },
    {
      "cell_type": "code",
      "metadata": {
        "id": "NRt3ISXj_dtG"
      },
      "source": [
        "import random\n",
        "import string\n",
        "import numpy as np\n",
        "import matplotlib.pyplot as plt\n",
        "import math\n",
        "\n",
        "xbound = 10\n",
        "ybound = 10\n",
        "point_bound = 1000\n",
        "\n",
        "def generatedata():\n",
        "  db = np.empty((xbound, ybound), dtype=object)\n",
        "  # create random number of points\n",
        "  for n in range(0, random.randint(1, point_bound)):\n",
        "    x = random.randint(0, xbound-1)\n",
        "    y = random.randint(0, ybound-1)\n",
        "\n",
        "    # encrypt value of point\n",
        "    randstring = ''.join(random.choices(string.ascii_letters + string.digits, k=100))\n",
        "    enc = hash(randstring + str(x) + str(y))\n",
        "\n",
        "    # store encrypted point in the database\n",
        "    if db[x, y] == None:\n",
        "      db[x, y] = [enc]\n",
        "    # at most 10 values per point\n",
        "    elif len(db[x, y]) < 10:\n",
        "      db[x, y].append(enc)\n",
        "  \n",
        "  return db"
      ],
      "execution_count": 1,
      "outputs": []
    },
    {
      "cell_type": "markdown",
      "metadata": {
        "id": "qr_RBexcQvjs"
      },
      "source": [
        "generate_dense and generate_sparse are functions that create databases that are specifically dense and sparse. These ensure that some dense and some sparse databases will be used as input to the nn. This also allows there to be a smaller number of points in the database to make the neural net run faster."
      ]
    },
    {
      "cell_type": "code",
      "metadata": {
        "id": "we_L_Cd1b1-W",
        "outputId": "e4a99cb0-1f2c-4874-d016-5ac61535ff9b",
        "colab": {
          "base_uri": "https://localhost:8080/",
          "height": 1000
        }
      },
      "source": [
        "extra_point_bound = 50\n",
        "\n",
        "def generate_dense():\n",
        "  db = np.empty((xbound, ybound), dtype=object)\n",
        "  xvalues = []\n",
        "  yvalues = []\n",
        "  xsprinkle = []\n",
        "  ysprinkle = []\n",
        "  # create point at each index\n",
        "  for x in range(0, xbound):\n",
        "    for y in range(0, ybound):\n",
        "      # encrypt value of point\n",
        "      randstring = ''.join(random.choices(string.ascii_letters + string.digits, k=100))\n",
        "      enc = hash(randstring + str(x) + str(y))\n",
        "      # store encrypted point in the database\n",
        "      db[x, y] = [enc]\n",
        "      xvalues.append(x)\n",
        "      yvalues.append(y)\n",
        "\n",
        "  # sprinkle random number of extra points around db\n",
        "  for n in range(0, random.randint(1, extra_point_bound)):\n",
        "    x = random.randint(0, xbound-1)\n",
        "    y = random.randint(0, ybound-1)\n",
        "    xsprinkle.append(x)\n",
        "    ysprinkle.append(y)\n",
        "\n",
        "    # encrypt value of point\n",
        "    randstring = ''.join(random.choices(string.ascii_letters + string.digits, k=100))\n",
        "    enc = hash(randstring + str(x) + str(y))\n",
        "    db[x, y].append(enc)\n",
        "\n",
        "  plt.plot(xvalues, yvalues, 'r.')\n",
        "  plt.plot(xsprinkle, ysprinkle, 'b.')\n",
        "  plt.show()\n",
        "  return db\n",
        "\n",
        "sparse_point_bound = 150\n",
        "\n",
        "def generate_sparse():\n",
        "  db = np.empty((xbound, ybound), dtype=object)\n",
        "  xvalues = []\n",
        "  yvalues = []\n",
        "  # create random number of points\n",
        "  for n in range(0, random.randint(1, sparse_point_bound)):\n",
        "    x = random.randint(0, xbound-1)\n",
        "    y = random.randint(0, ybound-1)\n",
        "    xvalues.append(x)\n",
        "    yvalues.append(y)\n",
        "\n",
        "    # encrypt value of point\n",
        "    randstring = ''.join(random.choices(string.ascii_letters + string.digits, k=100))\n",
        "    enc = hash(randstring + str(x) + str(y))\n",
        "\n",
        "    # store encrypted point in the database\n",
        "    if db[x, y] == None:\n",
        "      db[x, y] = [enc]\n",
        "    else:\n",
        "      db[x, y].append(enc)\n",
        "\n",
        "  plt.plot(xvalues, yvalues, 'r.')\n",
        "  plt.show()\n",
        "  \n",
        "  return db\n",
        "\n",
        "generate_dense()\n",
        "generate_sparse()"
      ],
      "execution_count": 11,
      "outputs": [
        {
          "output_type": "display_data",
          "data": {
            "image/png": "[encoded data removed]",
            "text/plain": [
              "<Figure size 432x288 with 1 Axes>"
            ]
          },
          "metadata": {
            "tags": [],
            "needs_background": "light"
          }
        },
        {
          "output_type": "display_data",
          "data": {
            "image/png": "[encoded data removed]",
            "text/plain": [
              "<Figure size 432x288 with 1 Axes>"
            ]
          },
          "metadata": {
            "tags": [],
            "needs_background": "light"
          }
        },
        {
          "output_type": "execute_result",
          "data": {
            "text/plain": [
              "array([[list([-3077298495310921410]),\n",
              "        list([9084031143345607731, -5912256078741709999, -8232935146622240065, 7213241266404040682]),\n",
              "        None, None, list([-574872546904999860, 6017362651144548105]),\n",
              "        None,\n",
              "        list([2681258561705927423, 6514723244857289300, 4955665986838001803]),\n",
              "        list([8159403623207580371]), None,\n",
              "        list([-1161038697580067492, 1018887320360536116, 2662032067349300221])],\n",
              "       [list([-4859332856438010367, 1615704041565395277, -4662563055105104630]),\n",
              "        list([-4793850962604189339, -1783700508499759498]),\n",
              "        list([6066830116301132258]), None, list([7329883428107206769]),\n",
              "        list([3418708655835743545]),\n",
              "        list([7466394468692226756, 4745355405979276781]), None,\n",
              "        list([-1080786464837814938]),\n",
              "        list([2723270037294478019, -5144879712106413318])],\n",
              "       [list([-195697715415733206]),\n",
              "        list([-8721808339976420933, -5928154512239627404, -6068010419509051191]),\n",
              "        list([-5729766117145158336]),\n",
              "        list([3703971051525554785, 2528872475882305303]), None,\n",
              "        list([-4981717986643154125, -4564072170060521774, -5803092374215515602, -8419111463308182725]),\n",
              "        list([-8829152785983025167, -1578643852998352799]),\n",
              "        list([-3333153836042448979]),\n",
              "        list([2334250063343536123, -2762891118540743427, -9005272838695633010, 557270845877031745]),\n",
              "        None],\n",
              "       [list([-5064004774347498003]),\n",
              "        list([3388312974502185981, -5907334964605162860]),\n",
              "        list([-7940990195841066060]), list([6990037950501541056]), None,\n",
              "        None,\n",
              "        list([-5554459512273990194, 2145583620652102710, 7914453441562234379]),\n",
              "        list([-7926550430886631246, -1197117332390846818]), None, None],\n",
              "       [None, list([-2044382351443276865, 6401460195740695902]), None,\n",
              "        list([-1980684487878897279]),\n",
              "        list([1557372572689176120, -5195664269102141498]),\n",
              "        list([4829820934172717046, -6240287212149408659, 674256318059229215]),\n",
              "        list([3589668837912992821, 3092340331709576587]),\n",
              "        list([-1320642651961104661, 8298680490019450364]),\n",
              "        list([4420100842939285647, -8399477240160227172]),\n",
              "        list([4699088463918937702])],\n",
              "       [list([-259236152876728436, -5690081885425134940, -1316868960390810500]),\n",
              "        list([9218197750543066646]),\n",
              "        list([6793764048050957051, 6818253283539868357]),\n",
              "        list([-4655658610223296824, -7188374167827996960]),\n",
              "        list([3816339756523398892]),\n",
              "        list([-5080847210118726232, 2388042075974010476]),\n",
              "        list([5330831208144198291, 8985874629164528524, -8511190435306032546]),\n",
              "        list([4601441847126931812]),\n",
              "        list([-4752205157198192504, 6740077691753816434, 5944671024969840899]),\n",
              "        list([-1574794101148001136])],\n",
              "       [list([-7795105549395294505, -5123891470412325803, -403522356233376803]),\n",
              "        list([-2135833878451033710]), list([7372539076921705024]), None,\n",
              "        list([2919120171821952766, -9172845930851183249]),\n",
              "        list([6170843896699482740, 4623341497588162419, -9216696705273772966]),\n",
              "        list([714186230516733939, 5068687083824272917]),\n",
              "        list([3705129417184723836, 5711930320503084461]),\n",
              "        list([-4084114413778080720]), None],\n",
              "       [list([4814846923491860650, -719946821666838793, -1980105613109099647]),\n",
              "        list([3362052282645565158]),\n",
              "        list([-1070210487125947895, 6127807527976248249]), None,\n",
              "        list([3715200736467577869]), list([-1600744942020511991]),\n",
              "        list([-6134145859911531339, -3228030228014516021, -510130476462822380]),\n",
              "        list([-8063916993779889312, -3008073455902172640]), None, None],\n",
              "       [list([-3864330300762960612, -397074980800999164, -1804586715768238430]),\n",
              "        list([-2075305967883362688, 4261009073642848785]),\n",
              "        list([-7470989755646023768]), list([-140473000821636661]),\n",
              "        list([276912942198278818]),\n",
              "        list([-2719510297632677890, -4026584414264559961]),\n",
              "        list([5044564853334429236, 6548834311599782530]), None, None,\n",
              "        list([-1510068389308819734, -837538989655567742])],\n",
              "       [list([8266982398784212427]), list([600349095987829299]), None,\n",
              "        None, None,\n",
              "        list([-667739751524024568, 6728549042424528370, -6776547315990024747]),\n",
              "        list([-6247022826235845429, 5496153163154864671]),\n",
              "        list([-3496605518625710752, -1592103195307696613]),\n",
              "        list([-5536175653557097346]),\n",
              "        list([-4114543809327034643, -6350540014652749050])]], dtype=object)"
            ]
          },
          "metadata": {
            "tags": []
          },
          "execution_count": 11
        }
      ]
    },
    {
      "cell_type": "code",
      "metadata": {
        "id": "SqRufdrjVrP_",
        "outputId": "aa935cc8-11ee-4800-ed51-ba22b3bb406d",
        "colab": {
          "base_uri": "https://localhost:8080/",
          "height": 1000
        }
      },
      "source": [
        "small_point_bound = 5\n",
        "\n",
        "def generate_sparse_small():\n",
        "  db = np.empty((xbound, ybound), dtype=object)\n",
        "  xvalues = []\n",
        "  yvalues = []\n",
        "  # create random number of points\n",
        "  for n in range(0, random.randint(1, small_point_bound)):\n",
        "    if n > 2:\n",
        "      x = random.randint(0, int((xbound-1)/2))\n",
        "      y = random.randint(0, int((ybound-1)/2))\n",
        "    else:\n",
        "      x = random.randint(int((xbound-1)/2), xbound-1)\n",
        "      y = random.randint(int((ybound-1)/2), ybound-1)\n",
        "    xvalues.append(x)\n",
        "    yvalues.append(y)\n",
        "    # encrypt value of point\n",
        "    randstring = ''.join(random.choices(string.ascii_letters + string.digits, k=100))\n",
        "    enc = hash(randstring + str(x) + str(y))\n",
        "\n",
        "    # store encrypted point in the database\n",
        "    if db[x, y] == None:\n",
        "      db[x, y] = [enc]\n",
        "    else:\n",
        "      db[x, y].append(enc)\n",
        "\n",
        "  plt.plot(xvalues, yvalues, 'b.')\n",
        "  plt.show()\n",
        "  \n",
        "  return db\n",
        "\n",
        "\n",
        "def generate_dense_exact():\n",
        "  db = np.empty((xbound, ybound), dtype=object)\n",
        "  xvalues = []\n",
        "  yvalues = []\n",
        "\n",
        "  # create point at each index\n",
        "  for x in range(0, xbound):\n",
        "    for y in range(0, ybound):\n",
        "      # encrypt value of point\n",
        "      randstring = ''.join(random.choices(string.ascii_letters + string.digits, k=100))\n",
        "      enc = hash(randstring + str(x) + str(y))\n",
        "      # store encrypted point in the database\n",
        "      db[x, y] = [enc]\n",
        "      xvalues.append(x)\n",
        "      yvalues.append(y)\n",
        "\n",
        "  plt.plot(xvalues, yvalues, 'r.')\n",
        "  plt.show()\n",
        "\n",
        "  return db\n",
        "\n",
        "\n",
        "def generate_sparse_cluster():\n",
        "  db = np.empty((xbound, ybound), dtype=object)\n",
        "  xvalues = []\n",
        "  yvalues = []\n",
        "  x_range = int((xbound-1)/4)\n",
        "\n",
        "  for n in range(0, random.randint(50, 70)):\n",
        "    x = random.randint(0, x_range)\n",
        "    y = random.randint(0, ybound-1)\n",
        "\n",
        "    xvalues.append(x)\n",
        "    yvalues.append(y)\n",
        "\n",
        "    # encrypt value of point\n",
        "    randstring = ''.join(random.choices(string.ascii_letters + string.digits, k=100))\n",
        "    enc = hash(randstring + str(x) + str(y))\n",
        "\n",
        "    # store encrypted point in the database\n",
        "    if db[x, y] == None:\n",
        "      db[x, y] = [enc]\n",
        "    else:\n",
        "      db[x, y].append(enc)\n",
        "\n",
        "  for n in range(0, random.randint(20, 50)):\n",
        "    x = random.randint(x_range, x_range*2)\n",
        "    y = random.randint(0, ybound-1)\n",
        "\n",
        "    xvalues.append(x)\n",
        "    yvalues.append(y)\n",
        "\n",
        "    # encrypt value of point\n",
        "    randstring = ''.join(random.choices(string.ascii_letters + string.digits, k=100))\n",
        "    enc = hash(randstring + str(x) + str(y))\n",
        "\n",
        "    # store encrypted point in the database\n",
        "    if db[x, y] == None:\n",
        "      db[x, y] = [enc]\n",
        "    else:\n",
        "      db[x, y].append(enc)\n",
        "\n",
        "  for n in range(0, random.randint(10, 20)):\n",
        "    x = random.randint(x_range*2, x_range*3)\n",
        "    y = random.randint(0, ybound-1)\n",
        "\n",
        "    xvalues.append(x)\n",
        "    yvalues.append(y)\n",
        "\n",
        "    # encrypt value of point\n",
        "    randstring = ''.join(random.choices(string.ascii_letters + string.digits, k=100))\n",
        "    enc = hash(randstring + str(x) + str(y))\n",
        "\n",
        "    # store encrypted point in the database\n",
        "    if db[x, y] == None:\n",
        "      db[x, y] = [enc]\n",
        "    else:\n",
        "      db[x, y].append(enc)\n",
        "\n",
        "  for n in range(0, random.randint(1, 10)):\n",
        "    x = random.randint(x_range*3, x_range*4)\n",
        "    y = random.randint(0, ybound-1)\n",
        "\n",
        "    xvalues.append(x)\n",
        "    yvalues.append(y)\n",
        "\n",
        "    # encrypt value of point\n",
        "    randstring = ''.join(random.choices(string.ascii_letters + string.digits, k=100))\n",
        "    enc = hash(randstring + str(x) + str(y))\n",
        "\n",
        "    # store encrypted point in the database\n",
        "    if db[x, y] == None:\n",
        "      db[x, y] = [enc]\n",
        "    else:\n",
        "      db[x, y].append(enc)\n",
        "\n",
        "  plt.plot(xvalues, yvalues, 'b.')\n",
        "  plt.show()\n",
        "  \n",
        "  return db\n",
        "\n",
        "\n",
        "\n",
        "generate_sparse_small()\n",
        "generate_dense_exact()\n",
        "generate_sparse_cluster()"
      ],
      "execution_count": 16,
      "outputs": [
        {
          "output_type": "display_data",
          "data": {
            "image/png": "[encoded data removed]",
            "text/plain": [
              "<Figure size 432x288 with 1 Axes>"
            ]
          },
          "metadata": {
            "tags": [],
            "needs_background": "light"
          }
        },
        {
          "output_type": "display_data",
          "data": {
            "image/png": "[encoded data removed]",
            "text/plain": [
              "<Figure size 432x288 with 1 Axes>"
            ]
          },
          "metadata": {
            "tags": [],
            "needs_background": "light"
          }
        },
        {
          "output_type": "display_data",
          "data": {
            "image/png": "[encoded data removed]",
            "text/plain": [
              "<Figure size 432x288 with 1 Axes>"
            ]
          },
          "metadata": {
            "tags": [],
            "needs_background": "light"
          }
        },
        {
          "output_type": "execute_result",
          "data": {
            "text/plain": [
              "array([[list([-4383352314891907673, 128371211457420646, -8059960222268616740, -3885676773233043435]),\n",
              "        list([-8395191822805326103, -7625885486353412681, 6949873738860052864]),\n",
              "        list([-1355439411273526449, 4370258207268746235]),\n",
              "        list([-1296634713740273045]),\n",
              "        list([-2115374634801138923, 3180017011449682852]),\n",
              "        list([-4997137329159333958]), list([-4845759770467474792]), None,\n",
              "        list([2560580492398372754]),\n",
              "        list([8266347365796460985, 7961416411563828806, -7955764316402755997])],\n",
              "       [list([7662165789482237902]),\n",
              "        list([-5286504081686478834, 2182165436446279638, -2091243889778827103, -9136084090775567150]),\n",
              "        list([-7986474443274081248, 1061429127407438115, 1419967390898640992]),\n",
              "        list([-1251142642655519411, 2423267823064928310, -2682562585437413304]),\n",
              "        list([1331349476473063567, 8877424772168093924, 1245312504166235907]),\n",
              "        list([3225412810453643122]), list([-4405174359440859898]),\n",
              "        list([2221806079017610061, 2472568935168041315]),\n",
              "        list([1077603172725809290, -7662440615533474984, 2401061441915362447]),\n",
              "        list([3286701666767707336, 8735150652131154172])],\n",
              "       [list([-7668469794315815267, 4263884795993436649]),\n",
              "        list([-2497877090814960342, -3570368241339106840, -2863616259115884770, 1872760488689639318]),\n",
              "        list([8259941555397482088, 5673566901125183055, 961046184198400342]),\n",
              "        None, list([-2276250309868863437]),\n",
              "        list([-1219788949478340525, 6020048413492573749, -6028568704999772113, 6923997668676006916, -5125529214305838089, 8075555105651162269]),\n",
              "        list([-115762609232391376]),\n",
              "        list([-3419942532432846512, -8491744744491641319, -1020898301626821478, -7673368199964138452, -5210948283153395495]),\n",
              "        list([-1715118299125844768, 3199432251918293710]),\n",
              "        list([6642810725959577600, 371543579591881562])],\n",
              "       [list([-189870204817283058]), list([4769914280895189771]),\n",
              "        list([3955866027560389530]), None, None,\n",
              "        list([4771347817026850064, 3682960265090643908]),\n",
              "        list([4745761268016030271]),\n",
              "        list([-3563168452950485833, 4153935774017907447]),\n",
              "        list([2359413924008602605, 3574072903988251108, -1116449664184035402]),\n",
              "        list([4426502380106010178, 4365835292391308793])],\n",
              "       [list([8761498332370667525, 8575861115970189222]),\n",
              "        list([-2402074268710350678, -2761115135168127918, -1802927391473116423]),\n",
              "        None, list([-192340990152625588]), None, None,\n",
              "        list([8484120072175522282, -4089931279644424962, -6291764585971337660]),\n",
              "        None, list([-6765407006291121878, -2278923154334865804]),\n",
              "        list([-5272200013015470554])],\n",
              "       [list([2529391108482364234]), None, list([203671431528004373]),\n",
              "        list([-1606300277796626799]), list([1108747902855544080]), None,\n",
              "        None, list([7853833230345355377, -989775280781579975]),\n",
              "        list([9098927482366013331]), None],\n",
              "       [list([6032934236144985686]), None, None,\n",
              "        list([1295983624867334324, -339025233789762525]),\n",
              "        list([1316320473019460615]), None, None,\n",
              "        list([-3335872445142025915]),\n",
              "        list([5465372498494144151, -6099452368836092169]), None],\n",
              "       [None, None, None, None, None, None, None, None, None, None],\n",
              "       [list([6911345967992940503]), None, None, None, None, None, None,\n",
              "        list([-3766434043561209451, -3188806123317996141]), None, None],\n",
              "       [None, None, None, None, None, None, None, None, None, None]],\n",
              "      dtype=object)"
            ]
          },
          "metadata": {
            "tags": []
          },
          "execution_count": 16
        }
      ]
    },
    {
      "cell_type": "code",
      "metadata": {
        "id": "EpfBfK57Ge5r",
        "outputId": "f9dbedaf-6567-4120-e6d7-a21174b1a428",
        "colab": {
          "resources": {
            "http://localhost:8080/nbextensions/google.colab/files.js": {
              "data": "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",
              "ok": true,
              "headers": [
                [
                  "content-type",
                  "application/javascript"
                ]
              ],
              "status": 200,
              "status_text": ""
            }
          },
          "base_uri": "https://localhost:8080/",
          "height": 72
        }
      },
      "source": [
        "from google.colab import files \n",
        "\n",
        "\n",
        "uploaded = files.upload()"
      ],
      "execution_count": 4,
      "outputs": [
        {
          "output_type": "display_data",
          "data": {
            "text/html": [
              "\n",
              "     <input type=\"file\" id=\"files-01b0135f-3a17-4e04-a7ee-07bb62c44217\" name=\"files[]\" multiple disabled\n",
              "        style=\"border:none\" />\n",
              "     <output id=\"result-01b0135f-3a17-4e04-a7ee-07bb62c44217\">\n",
              "      Upload widget is only available when the cell has been executed in the\n",
              "      current browser session. Please rerun this cell to enable.\n",
              "      </output>\n",
              "      <script src=\"/nbextensions/google.colab/files.js\"></script> "
            ],
            "text/plain": [
              "<IPython.core.display.HTML object>"
            ]
          },
          "metadata": {
            "tags": []
          }
        },
        {
          "output_type": "stream",
          "text": [
            "Saving Crimes_-_Map.csv to Crimes_-_Map (1).csv\n"
          ],
          "name": "stdout"
        }
      ]
    },
    {
      "cell_type": "code",
      "metadata": {
        "id": "krVGR3t3Hio4",
        "outputId": "6610b440-c762-4565-bc7c-492e3fe41231",
        "colab": {
          "base_uri": "https://localhost:8080/",
          "height": 394
        }
      },
      "source": [
        "import pandas as pd \n",
        "import io \n",
        "\n",
        "crimesmap = pd.read_csv(io.BytesIO(uploaded['Crimes_-_Map.csv']))\n",
        "crimesmap.head()"
      ],
      "execution_count": 6,
      "outputs": [
        {
          "output_type": "execute_result",
          "data": {
            "text/html": [
              "<div>\n",
              "<style scoped>\n",
              "    .dataframe tbody tr th:only-of-type {\n",
              "        vertical-align: middle;\n",
              "    }\n",
              "\n",
              "    .dataframe tbody tr th {\n",
              "        vertical-align: top;\n",
              "    }\n",
              "\n",
              "    .dataframe thead th {\n",
              "        text-align: right;\n",
              "    }\n",
              "</style>\n",
              "<table border=\"1\" class=\"dataframe\">\n",
              "  <thead>\n",
              "    <tr style=\"text-align: right;\">\n",
              "      <th></th>\n",
              "      <th>CASE#</th>\n",
              "      <th>DATE  OF OCCURRENCE</th>\n",
              "      <th>BLOCK</th>\n",
              "      <th>IUCR</th>\n",
              "      <th>PRIMARY DESCRIPTION</th>\n",
              "      <th>SECONDARY DESCRIPTION</th>\n",
              "      <th>LOCATION DESCRIPTION</th>\n",
              "      <th>ARREST</th>\n",
              "      <th>DOMESTIC</th>\n",
              "      <th>BEAT</th>\n",
              "      <th>WARD</th>\n",
              "      <th>FBI CD</th>\n",
              "      <th>X COORDINATE</th>\n",
              "      <th>Y COORDINATE</th>\n",
              "      <th>LATITUDE</th>\n",
              "      <th>LONGITUDE</th>\n",
              "      <th>LOCATION</th>\n",
              "    </tr>\n",
              "  </thead>\n",
              "  <tbody>\n",
              "    <tr>\n",
              "      <th>0</th>\n",
              "      <td>JD163753</td>\n",
              "      <td>02/24/2020 08:15:00 PM</td>\n",
              "      <td>031XX W LEXINGTON ST</td>\n",
              "      <td>1153</td>\n",
              "      <td>DECEPTIVE PRACTICE</td>\n",
              "      <td>FINANCIAL IDENTITY THEFT OVER $ 300</td>\n",
              "      <td>NaN</td>\n",
              "      <td>N</td>\n",
              "      <td>N</td>\n",
              "      <td>1134</td>\n",
              "      <td>24.0</td>\n",
              "      <td>11</td>\n",
              "      <td>NaN</td>\n",
              "      <td>NaN</td>\n",
              "      <td>NaN</td>\n",
              "      <td>NaN</td>\n",
              "      <td>NaN</td>\n",
              "    </tr>\n",
              "    <tr>\n",
              "      <th>1</th>\n",
              "      <td>JD212847</td>\n",
              "      <td>04/10/2020 10:56:00 PM</td>\n",
              "      <td>005XX W 103RD ST</td>\n",
              "      <td>0560</td>\n",
              "      <td>ASSAULT</td>\n",
              "      <td>SIMPLE</td>\n",
              "      <td>RESIDENCE</td>\n",
              "      <td>N</td>\n",
              "      <td>N</td>\n",
              "      <td>2232</td>\n",
              "      <td>9.0</td>\n",
              "      <td>08A</td>\n",
              "      <td>1174583.0</td>\n",
              "      <td>1836593.0</td>\n",
              "      <td>41.707001</td>\n",
              "      <td>-87.636288</td>\n",
              "      <td>(41.707000821, -87.636288063)</td>\n",
              "    </tr>\n",
              "    <tr>\n",
              "      <th>2</th>\n",
              "      <td>JD407638</td>\n",
              "      <td>10/19/2020 09:00:00 AM</td>\n",
              "      <td>009XX W LELAND AVE</td>\n",
              "      <td>0820</td>\n",
              "      <td>THEFT</td>\n",
              "      <td>$500 AND UNDER</td>\n",
              "      <td>APARTMENT</td>\n",
              "      <td>N</td>\n",
              "      <td>N</td>\n",
              "      <td>1914</td>\n",
              "      <td>46.0</td>\n",
              "      <td>06</td>\n",
              "      <td>NaN</td>\n",
              "      <td>NaN</td>\n",
              "      <td>NaN</td>\n",
              "      <td>NaN</td>\n",
              "      <td>NaN</td>\n",
              "    </tr>\n",
              "    <tr>\n",
              "      <th>3</th>\n",
              "      <td>JC497784</td>\n",
              "      <td>11/03/2019 11:40:00 AM</td>\n",
              "      <td>032XX N CLARK ST</td>\n",
              "      <td>0860</td>\n",
              "      <td>THEFT</td>\n",
              "      <td>RETAIL THEFT</td>\n",
              "      <td>DEPARTMENT STORE</td>\n",
              "      <td>N</td>\n",
              "      <td>N</td>\n",
              "      <td>1924</td>\n",
              "      <td>44.0</td>\n",
              "      <td>06</td>\n",
              "      <td>NaN</td>\n",
              "      <td>NaN</td>\n",
              "      <td>NaN</td>\n",
              "      <td>NaN</td>\n",
              "      <td>NaN</td>\n",
              "    </tr>\n",
              "    <tr>\n",
              "      <th>4</th>\n",
              "      <td>JD242916</td>\n",
              "      <td>05/24/2020 09:00:00 PM</td>\n",
              "      <td>011XX S DELANO CT E</td>\n",
              "      <td>0810</td>\n",
              "      <td>THEFT</td>\n",
              "      <td>OVER $500</td>\n",
              "      <td>RESIDENCE - GARAGE</td>\n",
              "      <td>N</td>\n",
              "      <td>N</td>\n",
              "      <td>123</td>\n",
              "      <td>25.0</td>\n",
              "      <td>06</td>\n",
              "      <td>NaN</td>\n",
              "      <td>NaN</td>\n",
              "      <td>NaN</td>\n",
              "      <td>NaN</td>\n",
              "      <td>NaN</td>\n",
              "    </tr>\n",
              "  </tbody>\n",
              "</table>\n",
              "</div>"
            ],
            "text/plain": [
              "      CASE#     DATE  OF OCCURRENCE  ...  LONGITUDE                       LOCATION\n",
              "0  JD163753  02/24/2020 08:15:00 PM  ...        NaN                            NaN\n",
              "1  JD212847  04/10/2020 10:56:00 PM  ... -87.636288  (41.707000821, -87.636288063)\n",
              "2  JD407638  10/19/2020 09:00:00 AM  ...        NaN                            NaN\n",
              "3  JC497784  11/03/2019 11:40:00 AM  ...        NaN                            NaN\n",
              "4  JD242916  05/24/2020 09:00:00 PM  ...        NaN                            NaN\n",
              "\n",
              "[5 rows x 17 columns]"
            ]
          },
          "metadata": {
            "tags": []
          },
          "execution_count": 6
        }
      ]
    },
    {
      "cell_type": "code",
      "metadata": {
        "id": "HZIArRumH_c2"
      },
      "source": [
        "def crimes_data(crimesmap):\n",
        "  crimesmap = np.array(crimesmap)\n",
        "  # select x coord and y coord columns from crimes map data set\n",
        "  crimesmap_xy = crimesmap[:, 12:14]\n",
        "\n",
        "  # remove all nan rows from data\n",
        "  row = crimesmap_xy.shape[0]-1\n",
        "  while row >= 0:\n",
        "    if math.isnan(crimesmap_xy[row, 0]) or math.isnan(crimesmap_xy[row, 1]) or crimesmap_xy[row, 0] == 0:\n",
        "      crimesmap_xy = np.delete(crimesmap_xy, row, axis=0)\n",
        "    row -= 1\n",
        "\n",
        "  crimesmap_xy = crimesmap_xy[:150, :]\n",
        "\n",
        "  # get max x and y coordinates to determine size of database\n",
        "  db_maxsize = np.argmax(crimesmap_xy, axis=0)\n",
        "  db = np.empty((int(crimesmap_xy[db_maxsize[0],0]), int(crimesmap_xy[db_maxsize[1], 1])), dtype=object)\n",
        "\n",
        "  # add each x, y coordinate to the database as a hashed value\n",
        "  for n in range(0, crimesmap_xy.shape[0]):\n",
        "    x = int(crimesmap_xy[n, 0])\n",
        "    y = int(crimesmap_xy[n, 1])\n",
        "    randstring = ''.join(random.choices(string.ascii_letters + string.digits, k=100))\n",
        "    enc = hash(randstring + str(x) + str(y))\n",
        "    # store encrypted point in the database\n",
        "    if db[x, y] == None:\n",
        "      db[x, y] = [enc]\n",
        "    else:\n",
        "      db[x, y].append(enc)\n",
        "\n",
        "  return db\n",
        "\n",
        "crimes_data(crimesmap)"
      ],
      "execution_count": null,
      "outputs": []
    },
    {
      "cell_type": "markdown",
      "metadata": {
        "id": "8zK2BckrUu_J"
      },
      "source": [
        "The database is classified as either sparse (0) or dense (1). produce_leakage() performs every possible query of the database and saves the results from those queries in a list. The list is returned at the end."
      ]
    },
    {
      "cell_type": "code",
      "metadata": {
        "id": "qPAJ-vFAlXmm"
      },
      "source": [
        "max_query_length = 100\n",
        "max_rect_l = 5\n",
        "max_rect_w = 5\n",
        "\n",
        "def produce_leakage(db):\n",
        "  leakage = []\n",
        "  empty_query_rows = [] # keep track of empty rows(queries) for padding purposes\n",
        "  query_num = 0 # keep track of row(query) number for empty_query_rows\n",
        "  dense_flag = 1\n",
        "  querylen = 0\n",
        "  # all possible size rectangle queries.\n",
        "  for l in range(1, max_rect_l+1):\n",
        "    for w in range(1, max_rect_w+1):\n",
        "      # all possible starting points of the rectangle query\n",
        "      for x in range(0, xbound):\n",
        "        # dont perform query if it is out of bounds\n",
        "        if x+l > xbound:\n",
        "          break\n",
        "        for y in range(0, ybound):\n",
        "          if y+w > ybound:\n",
        "            break\n",
        "\n",
        "          # if any point in database is None, then it is not dense\n",
        "          if db[x, y] == None:\n",
        "            dense_flag = 0\n",
        "\n",
        "          curr_query = []\n",
        "          # loop through current query in the database\n",
        "          for i in range(x, x+l):\n",
        "            for j in range(y, y+w):\n",
        "              # dont add anymore points if query is at max length (to make nn faster)\n",
        "              # if len(curr_query) >= max_query_length:\n",
        "              #   break\n",
        "              # if a point(s) exists at this location in database, add it to the current query\n",
        "              if db[i, j] != None:\n",
        "                curr_query.extend(db[i, j])\n",
        "\n",
        "          # if query is empty, then add [-1] to represent empty         \n",
        "          if not curr_query:\n",
        "            leakage.append([-1])\n",
        "            # keep track of empty queries for padding later\n",
        "            empty_query_rows.append(query_num)\n",
        "          # else add query leakage to entire leakage list\n",
        "          else :\n",
        "            leakage.append(curr_query)\n",
        "\n",
        "          # keep track of longest query length for creating input array\n",
        "          if len(curr_query) > querylen:\n",
        "            querylen = len(curr_query)\n",
        "          query_num += 1\n",
        "\n",
        "  return (leakage, dense_flag, empty_query_rows, querylen)"
      ],
      "execution_count": 4,
      "outputs": []
    },
    {
      "cell_type": "markdown",
      "metadata": {
        "id": "lfmeJEXnm13e"
      },
      "source": [
        "create_database() calls generate_dense() or generate_sparse() (depending on the input parameter) and produce_leakage(), which creates the database and the search query leakages from that database. It then takes the returned list of leakages and transforms it into a 2D numpy array with dimensions (number of queries, length of longest query). All queries with a length shorter than the longest are padded with 0's at the end. Each index of the array represents hashed value of a point in a query. create_database() returns the numpy array, which represents one input to the neural net, and the classification of the database."
      ]
    },
    {
      "cell_type": "code",
      "metadata": {
        "id": "ey_sbInNVySe"
      },
      "source": [
        "def create_database(dense):\n",
        "  if dense:\n",
        "    leakage, c, empty_rows, querylen = produce_leakage(generate_dense_exact())\n",
        "  # if not dense then sparse\n",
        "  else:\n",
        "    leakage, c, empty_rows, querylen = produce_leakage(generate_sparse())\n",
        "  \n",
        "  numqueries = len(leakage)\n",
        "  \n",
        "  input = np.empty((numqueries, querylen))\n",
        "  for x in range(0, numqueries):\n",
        "    q = np.array(leakage[x])\n",
        "    # empty rows are padded with -1 to distinguish them\n",
        "    if x in empty_rows:\n",
        "      input[x] = np.pad(q, (0, querylen-len(q)), 'constant', constant_values=(0, -1))\n",
        "    # all other queries are padded with 0 to be same shape\n",
        "    else:\n",
        "      input[x] = np.pad(q, (0, querylen-len(q)), 'constant', constant_values=(0, 0))\n",
        "\n",
        "  # shuffle leakage to make order and location of queries less obvious\n",
        "  np.random.shuffle(input)\n",
        "  \n",
        "  return (input, c)"
      ],
      "execution_count": 5,
      "outputs": []
    },
    {
      "cell_type": "markdown",
      "metadata": {
        "id": "wN5fqx1naFEH"
      },
      "source": [
        "create_nn_data() creates a specified number of databases that will be used in the training and testing sets for the neural net. It pads each input array (from create_database) so they are all of the same size. It returns an array of inputs of size (number of inputs, number of queries, number of items in query) and an array of the labels."
      ]
    },
    {
      "cell_type": "code",
      "metadata": {
        "id": "sHF3Id949cs9"
      },
      "source": [
        "def create_nn_data(num_inputs):\n",
        "  num_dense = int(num_inputs*0.4)\n",
        "  data = [] # list to store each database\n",
        "  labels = np.zeros((num_inputs))\n",
        "  numqueries = 0\n",
        "  querylen = 0\n",
        "\n",
        "  # select random indices to be made into dense databases\n",
        "  indices = np.arange((num_inputs))\n",
        "  np.random.shuffle(indices)\n",
        "  dense_indices = indices[:num_dense]\n",
        "\n",
        "  # create all databases for input\n",
        "  for n in range(0, num_inputs):\n",
        "    # dense_indices contains random values of n to be made dense databases\n",
        "    if n in dense_indices:\n",
        "      database, label = create_database(1)\n",
        "      data.append(database)\n",
        "      labels[n] = label\n",
        "    # all others are sparse\n",
        "    else:\n",
        "      database, label = create_database(0)\n",
        "      data.append(database)\n",
        "      labels[n] = label\n",
        "\n",
        "    # find largest shape to later pad all databases to be same size\n",
        "    if database.shape[0] > numqueries:\n",
        "      numqueries = database.shape[0]\n",
        "    if database.shape[1] > querylen:\n",
        "      querylen = database.shape[1]\n",
        "\n",
        "  inputs = np.empty((num_inputs, numqueries, querylen))\n",
        "\n",
        "  # pad each database\n",
        "  for i in range(0, len(data)):\n",
        "    d = data[i]\n",
        "    d = np.pad(d, ((0, 0), (0, max(querylen - d.shape[1], 0))), 'constant', constant_values=(0, 0))\n",
        "    inputs[i] = d\n",
        "\n",
        "  return inputs, labels"
      ],
      "execution_count": 6,
      "outputs": []
    },
    {
      "cell_type": "markdown",
      "metadata": {
        "id": "43K5LAOp3n4a"
      },
      "source": [
        "Time to make the neural net! I will be using tensorflow with keras"
      ]
    },
    {
      "cell_type": "code",
      "metadata": {
        "id": "QALvBCx_9oX8"
      },
      "source": [
        "import tensorflow as tf\n",
        "from tensorflow import keras"
      ],
      "execution_count": 7,
      "outputs": []
    },
    {
      "cell_type": "code",
      "metadata": {
        "id": "BavwLyY08ZRp",
        "outputId": "fcda5121-db1a-4978-a595-d01336999982",
        "colab": {
          "base_uri": "https://localhost:8080/"
        }
      },
      "source": [
        "# preprocess data\n",
        "n = 1500\n",
        "inputs, labels = create_nn_data(n)\n",
        "\n",
        "train_inputs = inputs[0:int(n*.8), :, :, None]\n",
        "train_labels = labels[0:int(n*.8)]\n",
        "test_inputs = inputs[int(n*.8):n, :, :, None]\n",
        "test_labels = labels[int(n*.8):n]\n",
        "\n",
        "print(\"train inputs: \", train_inputs.shape, \"train labels: \", train_labels.shape)\n",
        "print(\"test inputs: \", test_inputs.shape, \"test labels: \", test_labels.shape)\n",
        "\n",
        "# create model\n",
        "model = keras.Sequential([\n",
        "    keras.layers.Conv2D(32, 5, strides=2, padding='same', activation='relu', kernel_regularizer='L2'),\n",
        "    keras.layers.Conv2D(64, 5, strides=2, padding='same', activation='relu', kernel_regularizer='L2'),\n",
        "    keras.layers.Conv2D(64, 3, strides=2, padding='same', activation='relu', kernel_regularizer='L2'),\n",
        "    keras.layers.Conv2D(96, 3, strides=2, padding='same', activation='relu', kernel_regularizer='L2'),\n",
        "    keras.layers.Conv2D(96, 3, strides=2, padding='same', activation='relu', kernel_regularizer='L2'),\n",
        "    keras.layers.Flatten(),\n",
        "    keras.layers.Dense(100, activation='relu'),\n",
        "    keras.layers.Dropout(0.2),\n",
        "    keras.layers.Dense(60, activation='relu'),\n",
        "    keras.layers.Dense(2)\n",
        "])\n",
        "\n",
        "model.compile(optimizer='adam',\n",
        "              loss=tf.keras.losses.SparseCategoricalCrossentropy(from_logits=True),\n",
        "              metrics=['accuracy'])\n",
        "\n",
        "model.fit(train_inputs, train_labels, epochs=7)\n",
        "\n",
        "test_loss, test_acc = model.evaluate(test_inputs,  test_labels, verbose=2)\n",
        "\n",
        "print('\\nTest accuracy:', test_acc)"
      ],
      "execution_count": 8,
      "outputs": [
        {
          "output_type": "stream",
          "text": [
            "train inputs:  (1200, 1600, 55, 1) train labels:  (1200,)\n",
            "test inputs:  (300, 1600, 55, 1) test labels:  (300,)\n",
            "Epoch 1/7\n",
            "38/38 [==============================] - 73s 2s/step - loss: 3752062223384576.0000 - accuracy: 0.6158\n",
            "Epoch 2/7\n",
            "38/38 [==============================] - 73s 2s/step - loss: 20225925840896.0000 - accuracy: 0.8542\n",
            "Epoch 3/7\n",
            "38/38 [==============================] - 73s 2s/step - loss: 5885804412928.0000 - accuracy: 0.9042\n",
            "Epoch 4/7\n",
            "38/38 [==============================] - 73s 2s/step - loss: 3681298415616.0000 - accuracy: 0.9425\n",
            "Epoch 5/7\n",
            "38/38 [==============================] - 73s 2s/step - loss: 2498933817344.0000 - accuracy: 0.9533\n",
            "Epoch 6/7\n",
            "38/38 [==============================] - 73s 2s/step - loss: 1580926238720.0000 - accuracy: 0.9642\n",
            "Epoch 7/7\n",
            "38/38 [==============================] - 73s 2s/step - loss: 1469347528704.0000 - accuracy: 0.9717\n",
            "10/10 - 5s - loss: 10223919038464.0000 - accuracy: 0.8900\n",
            "\n",
            "Test accuracy: 0.8899999856948853\n"
          ],
          "name": "stdout"
        }
      ]
    },
    {
      "cell_type": "code",
      "metadata": {
        "id": "tjFJPUt2mYs4",
        "outputId": "7d91ac73-6e9a-40f0-b600-109b4fb07e5f",
        "colab": {
          "base_uri": "https://localhost:8080/",
          "height": 290
        }
      },
      "source": [
        "data, labels = create_nn_data(10)\n",
        "def plot_data():\n",
        "  #for i in range(0, data.shape[0]):\n",
        "  plt.plot(data[0, 0:10, 0:10], 'r.')\n",
        "  plt.plot(data[1, 0:10, 0:10], 'b.')\n",
        "  plt.xlabel('query')\n",
        "  plt.ylabel('hashed data points in query')\n",
        "  plt.show()\n",
        "\n",
        "plot_data()"
      ],
      "execution_count": null,
      "outputs": [
        {
          "output_type": "display_data",
          "data": {
            "image/png": "[encoded data removed]",
            "text/plain": [
              "<Figure size 432x288 with 1 Axes>"
            ]
          },
          "metadata": {
            "tags": [],
            "needs_background": "light"
          }
        }
      ]
    }
  ]
}