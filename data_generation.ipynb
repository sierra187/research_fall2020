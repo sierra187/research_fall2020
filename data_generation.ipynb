{
  "nbformat": 4,
  "nbformat_minor": 0,
  "metadata": {
    "colab": {
      "name": "data_generation.ipynb",
      "provenance": [],
      "collapsed_sections": [],
      "authorship_tag": "ABX9TyMzHN2A0/rdqDhiZuBVeoqF",
      "include_colab_link": true
    },
    "kernelspec": {
      "name": "python3",
      "display_name": "Python 3"
    }
  },
  "cells": [
    {
      "cell_type": "markdown",
      "metadata": {
        "id": "view-in-github",
        "colab_type": "text"
      },
      "source": [
        "<a href=\"https://colab.research.google.com/github/sierrarowley/research_fall2020/blob/master/data_generation.ipynb\" target=\"_parent\"><img src=\"https://colab.research.google.com/assets/colab-badge.svg\" alt=\"Open In Colab\"/></a>"
      ]
    },
    {
      "cell_type": "code",
      "metadata": {
        "id": "NRt3ISXj_dtG",
        "colab_type": "code",
        "colab": {}
      },
      "source": [
        "import random\n",
        "import string\n",
        "import numpy as np\n",
        "\n",
        "def generatedata():\n",
        "  db = np.empty((10, 10), dtype=object)\n",
        "  # create random number of points\n",
        "  for n in range(0, random.randint(1, 500)):\n",
        "    x = random.randint(0, 9)\n",
        "    y = random.randint(0, 9)\n",
        "\n",
        "    # encrypt value of point\n",
        "    randstring = ''.join(random.choices(string.ascii_letters + string.digits, k=100))\n",
        "    enc = hash(randstring + str(x) + str(y))\n",
        "\n",
        "    # store encrypted point in the database\n",
        "    if db[x, y] == None:\n",
        "      db[x, y] = [enc]\n",
        "    # at most 10 values per point\n",
        "    elif len(db[x, y]) < 10:\n",
        "      db[x, y].append(enc)\n",
        "  \n",
        "  return db"
      ],
      "execution_count": 15,
      "outputs": []
    },
    {
      "cell_type": "markdown",
      "metadata": {
        "id": "8zK2BckrUu_J",
        "colab_type": "text"
      },
      "source": [
        "The database is classified as either sparse (0) or dense (1)"
      ]
    },
    {
      "cell_type": "code",
      "metadata": {
        "id": "qPAJ-vFAlXmm",
        "colab_type": "code",
        "colab": {}
      },
      "source": [
        "def produce_leakage(db):\n",
        "  leakage = []\n",
        "  dense_flag = 1\n",
        "  # all possible size rectangle queries\n",
        "  for l in range(1, 11):\n",
        "    for w in range(1, 11):\n",
        "      # all possible starting points of the rectangle query\n",
        "      for x in range(0, 10):\n",
        "        # dont perform query if it is out of bounds\n",
        "        if x+l > 10:\n",
        "          break\n",
        "        for y in range(0, 10):\n",
        "          if y+w > 10:\n",
        "            break\n",
        "\n",
        "          # if any point in database is None, then it is not dense\n",
        "          if db[x, y] == None:\n",
        "            dense = 0\n",
        "          \n",
        "          curr_query = []\n",
        "          # loop through current query in the database\n",
        "          for i in range(x, x+l):\n",
        "            for j in range(y, y+w):\n",
        "              if db[i, j] != None:\n",
        "                curr_query.append(db[i, j])\n",
        "\n",
        "          # add query leakage to entire list\n",
        "          if len(curr_query) != 0:\n",
        "            leakage.append(curr_query)\n",
        "  \n",
        "  # shuffle to make location of queries less obvious\n",
        "  random.shuffle(leakage)\n",
        "  return (leakage, dense)"
      ],
      "execution_count": 16,
      "outputs": []
    },
    {
      "cell_type": "code",
      "metadata": {
        "id": "Wkvjh8QPRVMH",
        "colab_type": "code",
        "colab": {}
      },
      "source": [
        "produce_leakage(generatedata())"
      ],
      "execution_count": null,
      "outputs": []
    },
    {
      "cell_type": "code",
      "metadata": {
        "id": "ey_sbInNVySe",
        "colab_type": "code",
        "colab": {}
      },
      "source": [
        "import tensorflow as tf\n",
        "\n",
        "dataset = tf.data.Dataset.from_tensor_slices()\n",
        "dataset"
      ],
      "execution_count": null,
      "outputs": []
    }
  ]
}