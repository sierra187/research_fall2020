{
  "nbformat": 4,
  "nbformat_minor": 0,
  "metadata": {
    "colab": {
      "name": "data_generation.ipynb",
      "provenance": [],
      "collapsed_sections": [],
      "authorship_tag": "ABX9TyODCuIn296sE5YbRNe9iEF7",
      "include_colab_link": true
    },
    "kernelspec": {
      "name": "python3",
      "display_name": "Python 3"
    }
  },
  "cells": [
    {
      "cell_type": "markdown",
      "metadata": {
        "id": "view-in-github",
        "colab_type": "text"
      },
      "source": [
        "<a href=\"https://colab.research.google.com/github/sierrarowley/research_fall2020/blob/master/data_generation.ipynb\" target=\"_parent\"><img src=\"https://colab.research.google.com/assets/colab-badge.svg\" alt=\"Open In Colab\"/></a>"
      ]
    },
    {
      "cell_type": "code",
      "metadata": {
        "id": "NRt3ISXj_dtG"
      },
      "source": [
        "import random\n",
        "import string\n",
        "import numpy as np\n",
        "import matplotlib.pyplot as plt\n",
        "\n",
        "xbound = 10\n",
        "ybound = 10\n",
        "point_bound = 1000\n",
        "\n",
        "def generatedata():\n",
        "  db = np.empty((xbound, ybound), dtype=object)\n",
        "  # create random number of points\n",
        "  for n in range(0, random.randint(1, point_bound)):\n",
        "    x = random.randint(0, xbound-1)\n",
        "    y = random.randint(0, ybound-1)\n",
        "\n",
        "    # encrypt value of point\n",
        "    randstring = ''.join(random.choices(string.ascii_letters + string.digits, k=100))\n",
        "    enc = hash(randstring + str(x) + str(y))\n",
        "\n",
        "    # store encrypted point in the database\n",
        "    if db[x, y] == None:\n",
        "      db[x, y] = [enc]\n",
        "    # at most 10 values per point\n",
        "    elif len(db[x, y]) < 10:\n",
        "      db[x, y].append(enc)\n",
        "  \n",
        "  return db"
      ],
      "execution_count": 1,
      "outputs": []
    },
    {
      "cell_type": "markdown",
      "metadata": {
        "id": "qr_RBexcQvjs"
      },
      "source": [
        "generate_dense and generate_sparse are functions that create databases that are specifically dense and sparse. These ensure that some dense and some sparse databases will be used as input to the nn. This also allows there to be a smaller number of points in the database to make the neural net run faster."
      ]
    },
    {
      "cell_type": "code",
      "metadata": {
        "id": "we_L_Cd1b1-W",
        "outputId": "a88888a1-16cc-4752-9f13-ef159f0ce5b5",
        "colab": {
          "base_uri": "https://localhost:8080/",
          "height": 1000
        }
      },
      "source": [
        "extra_point_bound = 50\n",
        "\n",
        "def generate_dense():\n",
        "  db = np.empty((xbound, ybound), dtype=object)\n",
        "  xvalues = []\n",
        "  yvalues = []\n",
        "  xsprinkle = []\n",
        "  ysprinkle = []\n",
        "  # create point at each index\n",
        "  for x in range(0, xbound):\n",
        "    for y in range(0, ybound):\n",
        "      # encrypt value of point\n",
        "      randstring = ''.join(random.choices(string.ascii_letters + string.digits, k=100))\n",
        "      enc = hash(randstring + str(x) + str(y))\n",
        "      # store encrypted point in the database\n",
        "      db[x, y] = [enc]\n",
        "      xvalues.append(x)\n",
        "      yvalues.append(y)\n",
        "\n",
        "  # sprinkle random number of extra points around db\n",
        "  for n in range(0, random.randint(1, extra_point_bound)):\n",
        "    x = random.randint(0, xbound-1)\n",
        "    y = random.randint(0, ybound-1)\n",
        "    xsprinkle.append(x)\n",
        "    ysprinkle.append(y)\n",
        "\n",
        "    # encrypt value of point\n",
        "    randstring = ''.join(random.choices(string.ascii_letters + string.digits, k=100))\n",
        "    enc = hash(randstring + str(x) + str(y))\n",
        "\n",
        "  # plt.plot(xvalues, yvalues, 'r.')\n",
        "  # plt.plot(xsprinkle, ysprinkle, 'b.')\n",
        "  # plt.show()\n",
        "  return db\n",
        "\n",
        "sparse_point_bound = 150\n",
        "\n",
        "def generate_sparse():\n",
        "  db = np.empty((xbound, ybound), dtype=object)\n",
        "  xvalues = []\n",
        "  yvalues = []\n",
        "  # create random number of points\n",
        "  for n in range(0, random.randint(1, sparse_point_bound)):\n",
        "    x = random.randint(0, xbound-1)\n",
        "    y = random.randint(0, ybound-1)\n",
        "    xvalues.append(x)\n",
        "    yvalues.append(y)\n",
        "\n",
        "    # encrypt value of point\n",
        "    randstring = ''.join(random.choices(string.ascii_letters + string.digits, k=100))\n",
        "    enc = hash(randstring + str(x) + str(y))\n",
        "\n",
        "    # store encrypted point in the database\n",
        "    if db[x, y] == None:\n",
        "      db[x, y] = [enc]\n",
        "\n",
        "  # plt.plot(xvalues, yvalues, 'r.')\n",
        "  # plt.show()\n",
        "  \n",
        "  return db\n",
        "\n",
        "generate_dense()\n",
        "generate_sparse()"
      ],
      "execution_count": 25,
      "outputs": [
        {
          "output_type": "display_data",
          "data": {
            "image/png": "[encoded data removed]",
            "text/plain": [
              "<Figure size 432x288 with 1 Axes>"
            ]
          },
          "metadata": {
            "tags": [],
            "needs_background": "light"
          }
        },
        {
          "output_type": "display_data",
          "data": {
            "image/png": "[encoded data removed]",
            "text/plain": [
              "<Figure size 432x288 with 1 Axes>"
            ]
          },
          "metadata": {
            "tags": [],
            "needs_background": "light"
          }
        },
        {
          "output_type": "execute_result",
          "data": {
            "text/plain": [
              "array([[None, None, None, None, list([1708055192646558911]),\n",
              "        list([-3823179825171079345]), list([-2568305066007973318]), None,\n",
              "        list([2918346407782609046]), None],\n",
              "       [None, None, list([2025978481473250689]),\n",
              "        list([8497969040753098784]), None, list([6055675990530776154]),\n",
              "        None, list([-8259652768372988365]), None,\n",
              "        list([737489731928071951])],\n",
              "       [None, None, list([-7020506981993966168]), None,\n",
              "        list([6063287214333510786]), list([-4679023532442513748]), None,\n",
              "        None, list([-1553897787088088523]), None],\n",
              "       [None, list([1080183721791816771]), list([-3550823095266517111]),\n",
              "        None, None, list([-2575235423799716875]),\n",
              "        list([8012459329667379682]), None, None,\n",
              "        list([-8019216874938999438])],\n",
              "       [None, None, list([-7297087844449835546]),\n",
              "        list([-1251598196288810719]), None, None, None,\n",
              "        list([6021268782952571541]), None, list([6269207800519998736])],\n",
              "       [list([-5312005662983516004]), None, list([7506295998004124539]),\n",
              "        list([2913063400118006369]), None, list([-6157753578020307978]),\n",
              "        None, None, None, None],\n",
              "       [list([-707022101886770129]), None, list([-4574265813336085318]),\n",
              "        list([5189118495350599874]), list([-9156875554694156437]),\n",
              "        list([-7818741790489210462]), list([2702250433617525000]), None,\n",
              "        None, None],\n",
              "       [list([3257695377591209582]), None, None,\n",
              "        list([8855144877525610013]), None, None, None,\n",
              "        list([-5027853583513419957]), None, None],\n",
              "       [list([2828685613427204074]), list([7989612599177816809]), None,\n",
              "        None, None, None, list([-6886415047637669433]), None, None, None],\n",
              "       [list([2242626020435332647]), list([2069693053247211642]), None,\n",
              "        list([8754960777503625629]), None, list([-8868331970212269253]),\n",
              "        None, list([5377318606507923403]), None, None]], dtype=object)"
            ]
          },
          "metadata": {
            "tags": []
          },
          "execution_count": 25
        }
      ]
    },
    {
      "cell_type": "code",
      "metadata": {
        "id": "SqRufdrjVrP_",
        "outputId": "4fd6d9ee-9a0f-4273-a38e-0fb6206fbb1b",
        "colab": {
          "base_uri": "https://localhost:8080/"
        }
      },
      "source": [
        "small_point_bound = 5\n",
        "\n",
        "def generate_sparse_small():\n",
        "  db = np.empty((xbound, ybound), dtype=object)\n",
        "  xvalues = []\n",
        "  yvalues = []\n",
        "  # create random number of points\n",
        "  for n in range(0, random.randint(1, small_point_bound)):\n",
        "    if n > 2:\n",
        "      x = random.randint(0, int((xbound-1)/2))\n",
        "      y = random.randint(0, int((ybound-1)/2))\n",
        "    else:\n",
        "      x = random.randint(int((xbound-1)/2), xbound-1)\n",
        "      y = random.randint(int((ybound-1)/2), ybound-1)\n",
        "    xvalues.append(x)\n",
        "    yvalues.append(y)\n",
        "    # encrypt value of point\n",
        "    randstring = ''.join(random.choices(string.ascii_letters + string.digits, k=100))\n",
        "    enc = hash(randstring + str(x) + str(y))\n",
        "\n",
        "    # store encrypted point in the database\n",
        "    if db[x, y] == None:\n",
        "      db[x, y] = [enc]\n",
        "\n",
        "  # plt.plot(xvalues, yvalues, 'b.')\n",
        "  # plt.show()\n",
        "  \n",
        "  return db\n",
        "\n",
        "\n",
        "\n",
        "def generate_dense_exact():\n",
        "  db = np.empty((xbound, ybound), dtype=object)\n",
        "  xvalues = []\n",
        "  yvalues = []\n",
        "\n",
        "  # create point at each index\n",
        "  for x in range(0, xbound):\n",
        "    for y in range(0, ybound):\n",
        "      # encrypt value of point\n",
        "      randstring = ''.join(random.choices(string.ascii_letters + string.digits, k=100))\n",
        "      enc = hash(randstring + str(x) + str(y))\n",
        "      # store encrypted point in the database\n",
        "      db[x, y] = [enc]\n",
        "      xvalues.append(x)\n",
        "      yvalues.append(y)\n",
        "\n",
        "  # plt.plot(xvalues, yvalues, 'r.')\n",
        "  # plt.show()\n",
        "  \n",
        "  return db\n",
        "\n",
        "\n",
        "generate_sparse_small()\n",
        "generate_dense_exact()"
      ],
      "execution_count": 35,
      "outputs": [
        {
          "output_type": "execute_result",
          "data": {
            "text/plain": [
              "array([[list([-8931313709258621668]), list([2091990577894487251]),\n",
              "        list([8742289170276886557]), list([2782979841528811946]),\n",
              "        list([896840251466225962]), list([2422095648178921949]),\n",
              "        list([-573234583732087769]), list([1833874759667132368]),\n",
              "        list([-2373586509027529551]), list([342024087773696984])],\n",
              "       [list([4423248534922715406]), list([-2924135086454927938]),\n",
              "        list([3300656462923395920]), list([8449368043768781857]),\n",
              "        list([8007692335209065624]), list([6951373476466670598]),\n",
              "        list([-3242224829367972017]), list([7701053923891358957]),\n",
              "        list([1290597938735267669]), list([5228238106012797817])],\n",
              "       [list([-8719526676616018872]), list([-7822930506676081396]),\n",
              "        list([9211986923743811606]), list([3903795062100614168]),\n",
              "        list([-4257074220132237893]), list([-1172365447683089276]),\n",
              "        list([8905572367194754335]), list([8904894325466957217]),\n",
              "        list([6499072171413833776]), list([-2974450209688414411])],\n",
              "       [list([7367066871559178870]), list([-3721619014507098964]),\n",
              "        list([-6832872752637863130]), list([7451200477029223508]),\n",
              "        list([-4417767707511273267]), list([2633127382306698355]),\n",
              "        list([-8346124870141414018]), list([1494083207411736139]),\n",
              "        list([-5089232591168991051]), list([3419420959357546375])],\n",
              "       [list([6661642883341083688]), list([-5309509993375343797]),\n",
              "        list([5352338399096624420]), list([-3959079604776461875]),\n",
              "        list([983631483580046954]), list([-7780625278649979885]),\n",
              "        list([-5249134578343746383]), list([-7947045135694748725]),\n",
              "        list([-3170206545893114226]), list([5891424697596714129])],\n",
              "       [list([7304274680569200160]), list([5037661556445261178]),\n",
              "        list([3004935429323840727]), list([-7741659531464580289]),\n",
              "        list([2765130707033753517]), list([-534916015007656004]),\n",
              "        list([7076622048834637656]), list([7978292568616755827]),\n",
              "        list([-2119156392280521364]), list([-3029041197721888975])],\n",
              "       [list([1301823021656724027]), list([-1384551764096448479]),\n",
              "        list([5600352215145264613]), list([-1121786699423919660]),\n",
              "        list([-1877942171538057674]), list([4661212578535975667]),\n",
              "        list([-8455806813997574121]), list([4223076931855610812]),\n",
              "        list([-7240053382998166138]), list([-5926778032577820900])],\n",
              "       [list([-1913257703759607003]), list([-2448071166408929603]),\n",
              "        list([6486685472836375809]), list([4266610834824525773]),\n",
              "        list([-5446374961429108517]), list([666029363591022517]),\n",
              "        list([-3274892738233518480]), list([-1458643901960669629]),\n",
              "        list([-833311378775206199]), list([-3405223750641977608])],\n",
              "       [list([6552770062919827132]), list([-9147166569479086866]),\n",
              "        list([222619385966706974]), list([7860624878809481149]),\n",
              "        list([-3480815037765837304]), list([-7317849077730581357]),\n",
              "        list([7514118970697766791]), list([-1099655206992580735]),\n",
              "        list([4233698734541362596]), list([2177071390167504610])],\n",
              "       [list([131596887035765676]), list([-8623548055314689891]),\n",
              "        list([7599933120848587264]), list([1809983263885989701]),\n",
              "        list([4754553072088025839]), list([-3313335667576125529]),\n",
              "        list([-6645706705513975111]), list([-4050364227615288351]),\n",
              "        list([-8335889910812092657]), list([653282267738650675])]],\n",
              "      dtype=object)"
            ]
          },
          "metadata": {
            "tags": []
          },
          "execution_count": 35
        }
      ]
    },
    {
      "cell_type": "markdown",
      "metadata": {
        "id": "8zK2BckrUu_J"
      },
      "source": [
        "The database is classified as either sparse (0) or dense (1). produce_leakage() performs every possible query of the database and saves the results from those queries in a list. The list is returned at the end."
      ]
    },
    {
      "cell_type": "code",
      "metadata": {
        "id": "qPAJ-vFAlXmm"
      },
      "source": [
        "max_query_length = 100\n",
        "max_rect_l = 5\n",
        "max_rect_w = 5\n",
        "\n",
        "def produce_leakage(db):\n",
        "  leakage = []\n",
        "  empty_query_rows = [] # keep track of empty rows(queries) for padding purposes\n",
        "  query_num = 0 # keep track of row(query) number for empty_query_rows\n",
        "  dense_flag = 1\n",
        "  querylen = 0\n",
        "  # all possible size rectangle queries.\n",
        "  for l in range(1, max_rect_l+1):\n",
        "    for w in range(1, max_rect_w+1):\n",
        "      # all possible starting points of the rectangle query\n",
        "      for x in range(0, xbound):\n",
        "        # dont perform query if it is out of bounds\n",
        "        if x+l > xbound:\n",
        "          break\n",
        "        for y in range(0, ybound):\n",
        "          if y+w > ybound:\n",
        "            break\n",
        "\n",
        "          # if any point in database is None, then it is not dense\n",
        "          if db[x, y] == None:\n",
        "            dense_flag = 0\n",
        "\n",
        "          curr_query = []\n",
        "          # loop through current query in the database\n",
        "          for i in range(x, x+l):\n",
        "            for j in range(y, y+w):\n",
        "              # dont add anymore points if query is at max length (to make nn faster)\n",
        "              # if len(curr_query) >= max_query_length:\n",
        "              #   break\n",
        "              # if a point(s) exists at this location in database, add it to the current query\n",
        "              if db[i, j] != None:\n",
        "                curr_query.extend(db[i, j])\n",
        "\n",
        "          # if query is empty, then add [-1] to represent empty         \n",
        "          if not curr_query:\n",
        "            leakage.append([-1])\n",
        "            # keep track of empty queries for padding later\n",
        "            empty_query_rows.append(query_num)\n",
        "          # else add query leakage to entire leakage list\n",
        "          else :\n",
        "            leakage.append(curr_query)\n",
        "\n",
        "          # keep track of longest query length for creating input array\n",
        "          if len(curr_query) > querylen:\n",
        "            querylen = len(curr_query)\n",
        "          query_num += 1\n",
        "\n",
        "  return (leakage, dense_flag, empty_query_rows, querylen)"
      ],
      "execution_count": 30,
      "outputs": []
    },
    {
      "cell_type": "markdown",
      "metadata": {
        "id": "lfmeJEXnm13e"
      },
      "source": [
        "create_database() calls generate_dense() or generate_sparse() (depending on the input parameter) and produce_leakage(), which creates the database and the search query leakages from that database. It then takes the returned list of leakages and transforms it into a 2D numpy array with dimensions (number of queries, length of longest query). All queries with a length shorter than the longest are padded with 0's at the end. Each index of the array represents hashed value of a point in a query. create_database() returns the numpy array, which represents one input to the neural net, and the classification of the database."
      ]
    },
    {
      "cell_type": "code",
      "metadata": {
        "id": "ey_sbInNVySe"
      },
      "source": [
        "def create_database(dense):\n",
        "  if dense:\n",
        "    leakage, c, empty_rows, querylen = produce_leakage(generate_dense_exact())\n",
        "  # if not dense then sparse\n",
        "  else:\n",
        "    leakage, c, empty_rows, querylen = produce_leakage(generate_sparse_small())\n",
        "  \n",
        "  numqueries = len(leakage)\n",
        "  \n",
        "  input = np.empty((numqueries, querylen))\n",
        "  for x in range(0, numqueries):\n",
        "    q = np.array(leakage[x])\n",
        "    # empty rows are padded with -1 to distinguish them\n",
        "    if x in empty_rows:\n",
        "      input[x] = np.pad(q, (0, querylen-len(q)), 'constant', constant_values=(0, -1))\n",
        "    # all other queries are padded with 0 to be same shape\n",
        "    else:\n",
        "      input[x] = np.pad(q, (0, querylen-len(q)), 'constant', constant_values=(0, 0))\n",
        "\n",
        "  # shuffle leakage to make order and location of queries less obvious\n",
        "  np.random.shuffle(input)\n",
        "  \n",
        "  return (input, c)"
      ],
      "execution_count": 31,
      "outputs": []
    },
    {
      "cell_type": "markdown",
      "metadata": {
        "id": "wN5fqx1naFEH"
      },
      "source": [
        "create_nn_data() creates a specified number of databases that will be used in the training and testing sets for the neural net. It pads each input array (from create_database) so they are all of the same size. It returns an array of inputs of size (number of inputs, number of queries, number of items in query) and an array of the labels."
      ]
    },
    {
      "cell_type": "code",
      "metadata": {
        "id": "sHF3Id949cs9"
      },
      "source": [
        "def create_nn_data(num_inputs):\n",
        "  num_dense = int(num_inputs*0.4)\n",
        "  data = [] # list to store each database\n",
        "  labels = np.zeros((num_inputs))\n",
        "  numqueries = 0\n",
        "  querylen = 0\n",
        "\n",
        "  # select random indices to be made into dense databases\n",
        "  indices = np.arange((num_inputs))\n",
        "  np.random.shuffle(indices)\n",
        "  dense_indices = indices[:num_dense]\n",
        "\n",
        "  # create all databases for input\n",
        "  for n in range(0, num_inputs):\n",
        "    # dense_indices contains random values of n to be made dense databases\n",
        "    if n in dense_indices:\n",
        "      database, label = create_database(1)\n",
        "      data.append(database)\n",
        "      labels[n] = label\n",
        "    # all others are sparse\n",
        "    else:\n",
        "      database, label = create_database(0)\n",
        "      data.append(database)\n",
        "      labels[n] = label\n",
        "\n",
        "    # find largest shape to later pad all databases to be same size\n",
        "    if database.shape[0] > numqueries:\n",
        "      numqueries = database.shape[0]\n",
        "    if database.shape[1] > querylen:\n",
        "      querylen = database.shape[1]\n",
        "\n",
        "  inputs = np.empty((num_inputs, numqueries, querylen))\n",
        "\n",
        "  # pad each database\n",
        "  for i in range(0, len(data)):\n",
        "    d = data[i]\n",
        "    d = np.pad(d, ((0, 0), (0, max(querylen - d.shape[1], 0))), 'constant', constant_values=(0, 0))\n",
        "    inputs[i] = d\n",
        "\n",
        "  return inputs, labels"
      ],
      "execution_count": 32,
      "outputs": []
    },
    {
      "cell_type": "markdown",
      "metadata": {
        "id": "43K5LAOp3n4a"
      },
      "source": [
        "Time to make the neural net! I will be using tensorflow with keras"
      ]
    },
    {
      "cell_type": "code",
      "metadata": {
        "id": "QALvBCx_9oX8"
      },
      "source": [
        "import tensorflow as tf\n",
        "from tensorflow import keras"
      ],
      "execution_count": 33,
      "outputs": []
    },
    {
      "cell_type": "code",
      "metadata": {
        "id": "BavwLyY08ZRp",
        "outputId": "7678cb66-228c-4155-94fe-a9c630c4fd37",
        "colab": {
          "base_uri": "https://localhost:8080/"
        }
      },
      "source": [
        "# preprocess data\n",
        "n = 2000\n",
        "inputs, labels = create_nn_data(n)\n",
        "\n",
        "train_inputs = inputs[0:int(n*.8), :, :, None]\n",
        "train_labels = labels[0:int(n*.8)]\n",
        "test_inputs = inputs[int(n*.8):n, :, :, None]\n",
        "test_labels = labels[int(n*.8):n]\n",
        "\n",
        "print(\"train inputs: \", train_inputs.shape, \"train labels: \", train_labels.shape)\n",
        "print(\"test inputs: \", test_inputs.shape, \"test labels: \", test_labels.shape)\n",
        "\n",
        "# create model\n",
        "model = keras.Sequential([\n",
        "    keras.layers.Conv2D(32, 5, strides=2, padding='same', activation='relu', kernel_regularizer='L2'),\n",
        "    keras.layers.Conv2D(64, 5, strides=2, padding='same', activation='relu', kernel_regularizer='L2'),\n",
        "    keras.layers.Conv2D(64, 3, strides=2, padding='same', activation='relu', kernel_regularizer='L2'),\n",
        "    keras.layers.Conv2D(96, 3, strides=2, padding='same', activation='relu', kernel_regularizer='L2'),\n",
        "    keras.layers.Conv2D(96, 3, strides=2, padding='same', activation='relu', kernel_regularizer='L2'),\n",
        "    keras.layers.Flatten(),\n",
        "    keras.layers.Dense(100, activation='relu'),\n",
        "    keras.layers.Dropout(0.2),\n",
        "    keras.layers.Dense(60, activation='relu'),\n",
        "    keras.layers.Dense(2)\n",
        "])\n",
        "\n",
        "model.compile(optimizer='adam',\n",
        "              loss=tf.keras.losses.SparseCategoricalCrossentropy(from_logits=True),\n",
        "              metrics=['accuracy'])\n",
        "\n",
        "model.fit(train_inputs, train_labels, epochs=7)\n",
        "\n",
        "test_loss, test_acc = model.evaluate(test_inputs,  test_labels, verbose=2)\n",
        "\n",
        "print('\\nTest accuracy:', test_acc)"
      ],
      "execution_count": 37,
      "outputs": [
        {
          "output_type": "stream",
          "text": [
            "train inputs:  (1600, 1600, 25, 1) train labels:  (1600,)\n",
            "test inputs:  (400, 1600, 25, 1) test labels:  (400,)\n",
            "Epoch 1/7\n",
            "50/50 [==============================] - 49s 988ms/step - loss: 1277273613271040.0000 - accuracy: 0.9269\n",
            "Epoch 2/7\n",
            "50/50 [==============================] - 49s 989ms/step - loss: 2.5557 - accuracy: 1.0000\n",
            "Epoch 3/7\n",
            "50/50 [==============================] - 50s 990ms/step - loss: 2.5542 - accuracy: 1.0000\n",
            "Epoch 4/7\n",
            "50/50 [==============================] - 54s 1s/step - loss: 2.5542 - accuracy: 1.0000\n",
            "Epoch 5/7\n",
            "50/50 [==============================] - 49s 989ms/step - loss: 1406306484224.0000 - accuracy: 0.9994\n",
            "Epoch 6/7\n",
            "50/50 [==============================] - 50s 990ms/step - loss: 2.5544 - accuracy: 1.0000\n",
            "Epoch 7/7\n",
            "50/50 [==============================] - 49s 990ms/step - loss: 2.5544 - accuracy: 1.0000\n",
            "13/13 - 3s - loss: 2.5544 - accuracy: 1.0000\n",
            "\n",
            "Test accuracy: 1.0\n"
          ],
          "name": "stdout"
        }
      ]
    },
    {
      "cell_type": "code",
      "metadata": {
        "id": "tjFJPUt2mYs4",
        "outputId": "7d91ac73-6e9a-40f0-b600-109b4fb07e5f",
        "colab": {
          "base_uri": "https://localhost:8080/",
          "height": 290
        }
      },
      "source": [
        "data, labels = create_nn_data(10)\n",
        "def plot_data():\n",
        "  #for i in range(0, data.shape[0]):\n",
        "  plt.plot(data[0, 0:10, 0:10], 'r.')\n",
        "  plt.plot(data[1, 0:10, 0:10], 'b.')\n",
        "  plt.xlabel('query')\n",
        "  plt.ylabel('hashed data points in query')\n",
        "  plt.show()\n",
        "\n",
        "plot_data()"
      ],
      "execution_count": null,
      "outputs": [
        {
          "output_type": "display_data",
          "data": {
            "image/png": "[encoded data removed]",
            "text/plain": [
              "<Figure size 432x288 with 1 Axes>"
            ]
          },
          "metadata": {
            "tags": [],
            "needs_background": "light"
          }
        }
      ]
    }
  ]
}